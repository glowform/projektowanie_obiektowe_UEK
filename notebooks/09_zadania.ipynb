{
 "cells": [
  {
   "attachments": {},
   "cell_type": "markdown",
   "metadata": {},
   "source": [
    "#### Zadanie: dokumentacja funkcji matematycznych\n",
    "\n",
    "Cel: Napisać klasę i zestaw funkcji matematycznych w Pythonie i udokumentować je, używając komentarzy i docstringów zgodnie z konwencjami Pythona.\n",
    "\n",
    "- Utworzyć klasę MathOperations, która będzie zawierać metody do wykonania różnych operacji matematycznych.\n",
    "\n",
    "- Napisać funkcje: stworzyć kod zawierający kilka prostych funkcji matematycznych. Na przykład, funkcje do obliczania sumy, różnicy, iloczynu i ilorazu dwóch liczb, silni, średniej itp.\n",
    "\n",
    "- Dodać docstringi: klasa i każda funkcja powinna mieć docstring, który wyjaśnia, co funkcja robi, jakie parametry przyjmuje, jakie wartości zwraca i jakie może zgłaszać wyjątki.\n",
    "\n",
    "- Dodać komentarze: jeśli w kodzie występują bardziej skomplikowane fragmenty, należy dodać komentarze wyjaśniające te fragmenty.\n",
    "\n",
    "- Dodać przykłady użycia: w docstringach należy umieścić przykłady użycia funkcji."
   ]
  },
  {
   "cell_type": "code",
   "execution_count": null,
   "metadata": {},
   "outputs": [],
   "source": [
    "def add(a, b):\n",
    "    \"\"\"\n",
    "    Calculates the sum of two numbers.\n",
    "\n",
    "    Parameters:\n",
    "        a (float): The first number.\n",
    "        b (float): The second number.\n",
    "\n",
    "    Returns:\n",
    "        float: The sum of the two numbers.\n",
    "\n",
    "    Example:\n",
    "        >>> add(2, 3)\n",
    "        5\n",
    "    \"\"\"\n",
    "    return a + b"
   ]
  },
  {
   "attachments": {},
   "cell_type": "markdown",
   "metadata": {},
   "source": [
    "#### Automatyczne generowanie dokumentacji \n",
    "\n",
    "- Eksportowanie kodu z Kaggle\n",
    "\n",
    "Po zakończeniu pisania kodu, pobrać notebook jako plik .ipynb i ewentualnie przekonwertować go na czysty skrypt Pythona (.py) przy użyciu narzędzi takich jak **nbconvert** lub ręcznie, kopiując odpowiednie komórki.\n",
    "\n",
    "- instalacja Sphinks (lokalnie)\n",
    "\n",
    "\n",
    "\n",
    "\n",
    "\n"
   ]
  },
  {
   "cell_type": "code",
   "execution_count": null,
   "metadata": {},
   "outputs": [],
   "source": [
    "pip install sphinx"
   ]
  },
  {
   "attachments": {},
   "cell_type": "markdown",
   "metadata": {},
   "source": [
    "- konfiguracja Sphinks\n",
    "\n",
    "W katalogu głównym projektu, uruchomić **sphinx-quickstart** i postępować zgodnie z instrukcjami, aby skonfigurować Sphinx.\n",
    "\n",
    "- W pliku conf.py należy dodać ścieżkę do katalogu z kodem źródłowym:"
   ]
  },
  {
   "cell_type": "code",
   "execution_count": null,
   "metadata": {},
   "outputs": [],
   "source": [
    "import os\n",
    "import sys\n",
    "sys.path.insert(0, os.path.abspath('.'))"
   ]
  },
  {
   "attachments": {},
   "cell_type": "markdown",
   "metadata": {},
   "source": [
    "Następnie generujemy dokumentację"
   ]
  },
  {
   "cell_type": "code",
   "execution_count": null,
   "metadata": {},
   "outputs": [],
   "source": [
    "sphinx-apidoc -o docs/source .\n",
    "make html"
   ]
  },
  {
   "attachments": {},
   "cell_type": "markdown",
   "metadata": {},
   "source": [
    "Wygenerowana dokumentacja HTML będzie dostępna w folderze docs/build/html. Można otworzyć plik index.html w przeglądarce, aby zobaczyć wynik swojej pracy."
   ]
  }
 ],
 "metadata": {
  "language_info": {
   "name": "python"
  },
  "orig_nbformat": 4
 },
 "nbformat": 4,
 "nbformat_minor": 2
}
