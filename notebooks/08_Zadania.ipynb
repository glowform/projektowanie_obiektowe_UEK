{
 "cells": [
  {
   "cell_type": "markdown",
   "metadata": {},
   "source": [
    "#### Zadanie: Kalkulator statystyczny\n",
    "\n",
    "Napisać testy jednostkowe dla klasy StatisticalCalculator, która oferuje podstawowe funkcje statystyczne.\n",
    "\n",
    "1. Zdefiniowanie klasy i podstawowych metod"
   ]
  },
  {
   "cell_type": "code",
   "execution_count": null,
   "metadata": {},
   "outputs": [],
   "source": [
    "class StatisticalCalculator:\n",
    "    def mean(self, data):\n",
    "        pass\n",
    "\n",
    "    def median(self, data):\n",
    "        pass\n",
    "\n",
    "    def variance(self, data):\n",
    "        pass"
   ]
  },
  {
   "cell_type": "markdown",
   "metadata": {},
   "source": [
    "2. Testy jednostkowe\n",
    "\n",
    "Napisać testy jednostkowe, które sprawdzą poprawność każdej z funkcji"
   ]
  },
  {
   "cell_type": "code",
   "execution_count": null,
   "metadata": {},
   "outputs": [],
   "source": []
  },
  {
   "cell_type": "markdown",
   "metadata": {},
   "source": [
    "3. Implementacja Funkcji\n",
    "\n",
    "Po napisaniu testów, należy zaimplementować metody w klasie StatisticalCalculator w taki sposób, aby testy przechodziły."
   ]
  },
  {
   "cell_type": "code",
   "execution_count": null,
   "metadata": {},
   "outputs": [],
   "source": [
    "\n"
   ]
  },
  {
   "cell_type": "markdown",
   "metadata": {},
   "source": [
    "Do przemyślenia:\n",
    "\n",
    "- Obsługa pustych list w danych wejściowych.\n",
    "- Testowanie i obsługa błędów, np. podanie nieprawidłowych danych.\n",
    "- Dodanie dodatkowych funkcji statystycznych, takich jak moda czy odchylenie standardowe, i napisanie dla nich testów."
   ]
  },
  {
   "cell_type": "markdown",
   "metadata": {},
   "source": [
    "#### Zadanie Integracja koszyka zakupowego z systemem zamówień\n",
    "\n",
    "Napisać testy integracyjne, które sprawdzą interakcję między klasą ShoppingCart a klasą OrderProcessor.\n",
    "\n",
    "1. Zdefiniowanie klas\n",
    "\n",
    "Zdefiniować dwie klasy: ShoppingCart i OrderProcessor."
   ]
  },
  {
   "cell_type": "code",
   "execution_count": null,
   "metadata": {},
   "outputs": [],
   "source": [
    "class ShoppingCart:\n",
    "    def __init__(self):\n",
    "        self.items = []\n",
    "\n",
    "    def add_item(self, item):\n",
    "        self.items.append(item)\n",
    "\n",
    "class OrderProcessor:\n",
    "    def process_order(self, cart):\n",
    "        if cart.items:\n",
    "            # Process the order\n",
    "            return True\n",
    "        else:\n",
    "            return False\n"
   ]
  },
  {
   "cell_type": "markdown",
   "metadata": {},
   "source": [
    "2. Testy integracyjne\n",
    "\n",
    "Napisać testy integracyjne, które sprawdzą, czy zamówienie zostanie prawidłowo przetworzone, gdy w koszyku są przedmioty, oraz że zamówienie nie zostanie przetworzone, gdy koszyk jest pusty."
   ]
  },
  {
   "cell_type": "code",
   "execution_count": null,
   "metadata": {},
   "outputs": [],
   "source": []
  },
  {
   "cell_type": "markdown",
   "metadata": {},
   "source": [
    "3. Implementacja i refaktoryzacja\n",
    "\n",
    "Zaimplementować brakującą logikę w obu klasach i refaktoryzować kod, aby spełniał kryteria testów."
   ]
  },
  {
   "cell_type": "code",
   "execution_count": null,
   "metadata": {},
   "outputs": [],
   "source": []
  }
 ],
 "metadata": {
  "language_info": {
   "name": "python"
  }
 },
 "nbformat": 4,
 "nbformat_minor": 2
}
