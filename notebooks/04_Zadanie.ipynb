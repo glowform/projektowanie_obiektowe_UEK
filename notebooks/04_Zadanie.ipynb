{
 "cells": [
  {
   "cell_type": "markdown",
   "metadata": {},
   "source": [
    "## Zadanie\n",
    "\n",
    "### Projektowanie obiektowe gry komputerowej\n",
    "\n",
    "Waszym zadaniem jest zaprojektować system obiektowy dla gry komputerowej. \n",
    "\n",
    "* Pierwszym etpem jest wymyślenie tematyki gry i stworzenie krótkiego jej opisu.\n",
    "* Analiza wymagań - określenie funkcjonalności gry, w tym mechanikę rozgrywki, graczy, przeciwników itp. oraz interackje między nimi (tzw przypadki użycia).\n",
    "* Projekt Klas: Opracujcie projekt klas (może być w UML, pseudokodzie lub pythonie), uwzględniające klasy, atrybuty, metody oraz relacje dziedziczenia i asocjacji.\n",
    "* Dziedziczenie: Zaprojektujcie hierarchię klas np dla graczy i wrogów, wykorzystując dziedziczenie do wydobywania wspólnych cech i zachowań.\n",
    "* Polimorfizm: Zaimplementujcie polimorfizm, aby umożliwić różnym typom graczy i wrogów wykonywanie działań w różny sposób.\n",
    "\n",
    "#### Wskazówki:\n",
    "\n",
    "* Zwróćcie uwagę na właściwe stosowanie dziedziczenia i kompozycji.\n",
    "* Upewnijcie się, że wasze klasy są dobrze enkapsulowane (hermetyzacja), jeśli jest taka potrzeba \n",
    "* Wykorzystajcie interfejsy lub dziedziczenie wielokrotne do definiowania zachowań, które mogą być wspólne dla różnych klas.\n"
   ]
  },
  {
   "cell_type": "markdown",
   "metadata": {},
   "source": []
  }
 ],
 "metadata": {
  "language_info": {
   "name": "python"
  }
 },
 "nbformat": 4,
 "nbformat_minor": 2
}
