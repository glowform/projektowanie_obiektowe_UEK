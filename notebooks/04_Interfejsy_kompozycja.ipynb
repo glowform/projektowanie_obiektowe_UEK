{
 "cells": [
  {
   "attachments": {},
   "cell_type": "markdown",
   "metadata": {},
   "source": [
    "# Interfejsy\n"
   ]
  },
  {
   "cell_type": "markdown",
   "metadata": {},
   "source": [
    "W Pythonie, interfejs jest zdefiniowany jako zestaw metod, które klasa powinna implementować. Interfejsy są stosowane w celu zapewnienia spójności w projektowaniu klas, które współpracują ze sobą. W języku Python, interfejsy mogą być realizowane za pomocą klas abstrakcyjnych (ABC - Abstract Base Classes) oraz modułu abc.\n",
    "\n",
    "Klasa abstrakcyjna to klasa, która nie może być używana do tworzenia obiektów, a jedynie do dziedziczenia przez inne klasy. Moduł abc dostarcza metaklasę ABCMeta, która pozwala na tworzenie klas abstrakcyjnych. Klasy abstrakcyjne mogą zawierać metody abstrakcyjne, które są metodami bez implementacji, a które muszą być zaimplementowane przez klasy pochodne.\n",
    "\n",
    "Interfejsy umożliwiają zdefiniowanie wspólnego interfejsu dla różnych implementacji, co ułatwia stosowanie wielokrotnego dziedziczenia oraz polimorfizmu.\n",
    "\n",
    "Interfejsy są często stosowane w bibliotekach i frameworkach, aby umożliwić użytkownikom dostarczanie własnych implementacji określonych funkcji (np w Django).\n",
    "\n",
    "W Pythonie interfejsy umożliwiają stosowanie dziedziczenia wielokrotnego, co pozwala na jednoczesne dziedziczenie po wielu klasach abstrakcyjnych, co z kolei umożliwia wydzielenie wspólnego interfejsu dla różnych klas.\n",
    "\n",
    "Interfejsy umożliwiają stosowanie kompozycji zamiast dziedziczenia, co pozwala na większą elastyczność w projektowaniu klas oraz ułatwia testowanie jednostkowe."
   ]
  },
  {
   "cell_type": "code",
   "execution_count": null,
   "metadata": {},
   "outputs": [],
   "source": [
    "from abc import ABC, abstractmethod\n",
    "\n",
    "class IShape(ABC):\n",
    "    @abstractmethod\n",
    "    def area(self):\n",
    "        pass\n",
    "    \n",
    "    @abstractmethod\n",
    "    def perimeter(self):\n",
    "        pass\n",
    "\n",
    "class Rectangle(IShape):\n",
    "    def __init__(self, width, height):\n",
    "        self.width = width\n",
    "        self.height = height\n",
    "    \n",
    "    def area(self):\n",
    "        return self.width * self.height\n",
    "    \n",
    "    def perimeter(self):\n",
    "        return 2 * (self.width + self.height)"
   ]
  },
  {
   "cell_type": "markdown",
   "metadata": {},
   "source": [
    "Metody abstrakcyjne to metody, które są zadeklarowane w klasie abstrakcyjnej, ale nie posiadają implementacji. Ich celem jest zdefiniowanie interfejsu, czyli zestawu metod, które muszą być zaimplementowane przez klasy dziedziczące po klasie abstrakcyjnej.\n",
    "\n",
    "Metody abstrakcyjne w Pythonie są deklarowane za pomocą dekoratora @abstractmethod, który jest dostępny w module abc (Abstract Base Classes)."
   ]
  },
  {
   "attachments": {},
   "cell_type": "markdown",
   "metadata": {},
   "source": [
    "### Duck Typing \n",
    "\n",
    "W Pythonie istnieje koncepcja \"duck typing\", która polega na tym, że typ obiektu jest określany na podstawie jego zachowania, a nie na podstawie jego klasy. Oznacza to, że jeśli obiekt zachowuje się jak określony interfejs, to jest traktowany jako obiekt tego interfejsu, niezależnie od tego, czy rzeczywiście dziedziczy po klasie abstrakcyjnej definiującej interfejs. Przykład:"
   ]
  },
  {
   "cell_type": "code",
   "execution_count": 2,
   "metadata": {},
   "outputs": [
    {
     "name": "stdout",
     "output_type": "stream",
     "text": [
      "Quack!\n",
      "Robot quack!\n"
     ]
    }
   ],
   "source": [
    "class Duck:\n",
    "    def quack(self):\n",
    "        print(\"Quack!\")\n",
    "\n",
    "class Robot:\n",
    "    def quack(self):\n",
    "        print(\"Robot quack!\")\n",
    "\n",
    "def make_quack(duck):\n",
    "    duck.quack()\n",
    "\n",
    "duck = Duck()\n",
    "robot = Robot()\n",
    "\n",
    "make_quack(duck)  # wydrukuje \"Quack!\"\n",
    "make_quack(robot)  # wydrukuje \"Robot quack!\""
   ]
  },
  {
   "cell_type": "markdown",
   "metadata": {},
   "source": [
    "W przykładzie mamy dwie klasy: Duck i Robot. Obie klasy mają metodę quack, ale nie implementują żadnego wspólnego interfejsu. Mimo to, funkcja make_quack akceptuje obiekty obu klas, ponieważ obie klasy zachowują się tak, jak oczekuje tego funkcja, czyli posiadają metodę quack.\n",
    "\n",
    "Mówiąc wprost, w Pythonie nie jest ważne, jaki jest typ obiektu, ale czy obiekt ten posiada metody lub atrybuty, których oczekuje od niego kod. Jeśli obiekt zachowuje się tak, jak oczekuje tego kod, to jest traktowany jako obiekt odpowiedniego typu, nawet jeśli faktycznie jest obiektem innego typu."
   ]
  },
  {
   "attachments": {},
   "cell_type": "markdown",
   "metadata": {},
   "source": [
    "### Zasada kompozycji\n",
    "\n",
    "Kompozycja to zasada projektowania oprogramowania, która polega na budowaniu klas złożonych z obiektów innych klas, w celu uzyskania nowej funkcjonalności. Jest to alternatywa dla dziedziczenia, gdzie klasa rozszerza inną klasę, aby skorzystać z jej funkcjonalności. Kompozycja jest często formułowana za pomocą zasady \"ma\" zamiast \"jest\" - to znaczy, zamiast mówić, że klasa B \"jest\" klasą A (jak w dziedziczeniu), mówimy, że klasa B \"ma\" klasę A.\n",
    "\n",
    "Kilka kluczowych punktów odnoszących się do kompozycji:\n",
    "\n",
    "Silne hermetyzacja: W kompozycji, obiekty używane przez klasę są często prywatne, co oznacza, że są one ukryte przed zewnętrznym dostępem i mogą być zarządzane tylko za pośrednictwem interfejsu klasy zawierającej.\n",
    "\n",
    "Wielokrotne wykorzystanie kodu: Kompozycja pozwala na wielokrotne wykorzystanie kodu poprzez \"wkomponowanie\" obiektów już istniejących klas, które implementują pożądane zachowanie lub dane.\n",
    "\n",
    "Elastyczność: Kompozycja jest bardziej elastyczna niż dziedziczenie, ponieważ zmiana zachowania obiektów może być osiągnięta przez zastąpienie komponowanych obiektów innymi obiektami tego samego interfejsu w trakcie działania programu.\n",
    "\n",
    "Unikanie problemów dziedziczenia wielokrotnego: W językach, które nie obsługują dziedziczenia wielokrotnego, kompozycja jest kluczową techniką umożliwiającą reużywanie kodu bez konieczności korzystania z wielokrotnego dziedziczenia.\n",
    "\n",
    "Łatwość utrzymania: Modyfikacje w jednej klasie zwykle nie wpływają na klasy komponujące, co ułatwia utrzymanie i rozwijanie kodu.\n",
    "\n",
    "Silne sprzężenie: Kompozycja może doprowadzić do silnego sprzężenia między klasami, jeżeli komponowane obiekty są niewłaściwie zarządzane, ponieważ zmiany wewnętrzne komponowanego obiektu mogą wpłynąć na klasę zawierającą."
   ]
  },
  {
   "cell_type": "code",
   "execution_count": 1,
   "metadata": {},
   "outputs": [],
   "source": [
    "class Engine:\n",
    "    def start(self):\n",
    "        pass\n",
    "\n",
    "    def stop(self):\n",
    "        pass\n",
    "\n",
    "class Car:\n",
    "    def __init__(self):\n",
    "        self.engine = Engine()\n",
    "\n",
    "    def turn_on(self):\n",
    "        self.engine.start()\n",
    "\n",
    "    def turn_off(self):\n",
    "        self.engine.stop()"
   ]
  },
  {
   "cell_type": "markdown",
   "metadata": {},
   "source": [
    "W tym przykładzie, Car \"ma\" Engine. Car \"nie jest\" Engine, ale używa funkcji Engine poprzez jego kompozycję, co pozwala na łatwe zastąpienie silnika innym rodzajem silnika, jeśli zajdzie taka potrzeba, bez modyfikowania klasy Car.\n",
    "\n",
    "Has a/Contains a: Sugeruje kompozycję; na przykład, \"A car has an engine\" (Samochód ma silnik), co oznacza, że obiekt klasy Car zawiera w sobie obiekt klasy Engine.\n",
    "\n",
    "Is not: Jest używane do zaznaczenia, że klasa nie dziedziczy z innej klasy; na przykład, \"A car is not an engine\" (Samochód nie jest silnikiem), co podkreśla, że klasy Car i Engine są oddzielne i Car nie rozszerza klasy Engine, ale zamiast tego posiada Engine jako część swojej struktury."
   ]
  },
  {
   "cell_type": "code",
   "execution_count": 3,
   "metadata": {},
   "outputs": [
    {
     "name": "stdout",
     "output_type": "stream",
     "text": [
      "\"Podstawy programowania\" napisane przez Jestem autorem o imieniu Jan Kowalski.\n"
     ]
    }
   ],
   "source": [
    "class Autor:\n",
    "    def __init__(self, name):\n",
    "        self.name = name\n",
    "\n",
    "    def przedstaw_sie(self):\n",
    "        return f\"Jestem autorem o imieniu {self.name}.\"\n",
    "\n",
    "class Book:\n",
    "    def __init__(self, title, autor):\n",
    "        self.title = title\n",
    "        self.autor = autor  # Composition: book \"has\" author\n",
    "\n",
    "    def show_info(self):\n",
    "        return f'\"{self.title}\" napisane przez {self.autor.przedstaw_sie()}'\n",
    "\n",
    "# Create objects\n",
    "autor = Autor(\"Jan Kowalski\")\n",
    "book = Book(\"Podstawy programowania\", autor)\n",
    "\n",
    "print(book.show_info())"
   ]
  }
 ],
 "metadata": {
  "kernelspec": {
   "display_name": "Python 3",
   "language": "python",
   "name": "python3"
  },
  "language_info": {
   "codemirror_mode": {
    "name": "ipython",
    "version": 3
   },
   "file_extension": ".py",
   "mimetype": "text/x-python",
   "name": "python",
   "nbconvert_exporter": "python",
   "pygments_lexer": "ipython3",
   "version": "3.9.13"
  }
 },
 "nbformat": 4,
 "nbformat_minor": 2
}
