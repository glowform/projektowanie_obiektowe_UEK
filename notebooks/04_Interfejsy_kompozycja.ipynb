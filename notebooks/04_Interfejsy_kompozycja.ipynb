{
 "cells": [
  {
   "attachments": {},
   "cell_type": "markdown",
   "metadata": {},
   "source": [
    "# Interfejsy\n"
   ]
  },
  {
   "cell_type": "markdown",
   "metadata": {},
   "source": [
    "W Pythonie, interfejs jest zdefiniowany jako zestaw metod, które klasa powinna implementować. Interfejsy są stosowane w celu zapewnienia spójności w projektowaniu klas, które współpracują ze sobą. W języku Python, interfejsy mogą być realizowane za pomocą klas abstrakcyjnych (ABC - Abstract Base Classes) oraz modułu abc.\n",
    "\n",
    "Klasa abstrakcyjna to klasa, która nie może być używana do tworzenia obiektów, a jedynie do dziedziczenia przez inne klasy. Moduł abc dostarcza metaklasę ABCMeta, która pozwala na tworzenie klas abstrakcyjnych. Klasy abstrakcyjne mogą zawierać metody abstrakcyjne, które są metodami bez implementacji, a które muszą być zaimplementowane przez klasy pochodne.\n",
    "\n",
    "Interfejsy umożliwiają zdefiniowanie wspólnego interfejsu dla różnych implementacji, co ułatwia stosowanie wielokrotnego dziedziczenia oraz polimorfizmu.\n",
    "\n",
    "Interfejsy są często stosowane w bibliotekach i frameworkach, aby umożliwić użytkownikom dostarczanie własnych implementacji określonych funkcji (np w Django).\n",
    "\n",
    "W Pythonie interfejsy umożliwiają stosowanie dziedziczenia wielokrotnego, co pozwala na jednoczesne dziedziczenie po wielu klasach abstrakcyjnych, co z kolei umożliwia wydzielenie wspólnego interfejsu dla różnych klas.\n",
    "\n",
    "Interfejsy umożliwiają stosowanie kompozycji zamiast dziedziczenia, co pozwala na większą elastyczność w projektowaniu klas oraz ułatwia testowanie jednostkowe."
   ]
  },
  {
   "cell_type": "code",
   "execution_count": null,
   "metadata": {},
   "outputs": [],
   "source": [
    "from abc import ABC, abstractmethod\n",
    "\n",
    "class IShape(ABC):\n",
    "    @abstractmethod\n",
    "    def area(self):\n",
    "        pass\n",
    "    \n",
    "    @abstractmethod\n",
    "    def perimeter(self):\n",
    "        pass\n",
    "\n",
    "class Rectangle(IShape):\n",
    "    def __init__(self, width, height):\n",
    "        self.width = width\n",
    "        self.height = height\n",
    "    \n",
    "    def area(self):\n",
    "        return self.width * self.height\n",
    "    \n",
    "    def perimeter(self):\n",
    "        return 2 * (self.width + self.height)"
   ]
  },
  {
   "cell_type": "markdown",
   "metadata": {},
   "source": [
    "Metody abstrakcyjne to metody, które są zadeklarowane w klasie abstrakcyjnej, ale nie posiadają implementacji. Ich celem jest zdefiniowanie interfejsu, czyli zestawu metod, które muszą być zaimplementowane przez klasy dziedziczące po klasie abstrakcyjnej.\n",
    "\n",
    "Metody abstrakcyjne w Pythonie są deklarowane za pomocą dekoratora @abstractmethod, który jest dostępny w module abc (Abstract Base Classes)."
   ]
  },
  {
   "attachments": {},
   "cell_type": "markdown",
   "metadata": {},
   "source": [
    "### Duck Typing \n",
    "\n",
    "W Pythonie istnieje koncepcja \"duck typing\", która polega na tym, że typ obiektu jest określany na podstawie jego zachowania, a nie na podstawie jego klasy. Oznacza to, że jeśli obiekt zachowuje się jak określony interfejs, to jest traktowany jako obiekt tego interfejsu, niezależnie od tego, czy rzeczywiście dziedziczy po klasie abstrakcyjnej definiującej interfejs. Przykład:"
   ]
  },
  {
   "cell_type": "code",
   "execution_count": 2,
   "metadata": {},
   "outputs": [
    {
     "name": "stdout",
     "output_type": "stream",
     "text": [
      "Quack!\n",
      "Robot quack!\n"
     ]
    }
   ],
   "source": [
    "class Duck:\n",
    "    def quack(self):\n",
    "        print(\"Quack!\")\n",
    "\n",
    "class Robot:\n",
    "    def quack(self):\n",
    "        print(\"Robot quack!\")\n",
    "\n",
    "def make_quack(duck):\n",
    "    duck.quack()\n",
    "\n",
    "duck = Duck()\n",
    "robot = Robot()\n",
    "\n",
    "make_quack(duck)  # prints \"Quack!\"\n",
    "make_quack(robot)  # prints \"Robot quack!\""
   ]
  },
  {
   "cell_type": "markdown",
   "metadata": {},
   "source": [
    "W przykładzie mamy dwie klasy: Duck i Robot. Obie klasy mają metodę quack, ale nie implementują żadnego wspólnego interfejsu. Mimo to, funkcja make_quack akceptuje obiekty obu klas, ponieważ obie klasy zachowują się tak, jak oczekuje tego funkcja, czyli posiadają metodę quack.\n",
    "\n",
    "Mówiąc wprost, w Pythonie nie jest ważne, jaki jest typ obiektu, ale czy obiekt ten posiada metody lub atrybuty, których oczekuje od niego kod. Jeśli obiekt zachowuje się tak, jak oczekuje tego kod, to jest traktowany jako obiekt odpowiedniego typu, nawet jeśli faktycznie jest obiektem innego typu."
   ]
  },
  {
   "attachments": {},
   "cell_type": "markdown",
   "metadata": {},
   "source": [
    "### Zasada kompozycji\n",
    "\n",
    "Kompozycja to zasada projektowania oprogramowania, która polega na budowaniu klas złożonych z obiektów innych klas, w celu uzyskania nowej funkcjonalności. Jest to alternatywa dla dziedziczenia, gdzie klasa rozszerza inną klasę, aby skorzystać z jej funkcjonalności. Kompozycja jest często formułowana za pomocą zasady \"ma\" zamiast \"jest\" - to znaczy, zamiast mówić, że klasa B \"jest\" klasą A (jak w dziedziczeniu), mówimy, że klasa B \"ma\" klasę A.\n",
    "\n",
    "Kilka kluczowych punktów odnoszących się do kompozycji:\n",
    "\n",
    "Silne hermetyzacja: W kompozycji, obiekty używane przez klasę są często prywatne, co oznacza, że są one ukryte przed zewnętrznym dostępem i mogą być zarządzane tylko za pośrednictwem interfejsu klasy zawierającej.\n",
    "\n",
    "Wielokrotne wykorzystanie kodu: Kompozycja pozwala na wielokrotne wykorzystanie kodu poprzez \"wkomponowanie\" obiektów już istniejących klas, które implementują pożądane zachowanie lub dane.\n",
    "\n",
    "Elastyczność: Kompozycja jest bardziej elastyczna niż dziedziczenie, ponieważ zmiana zachowania obiektów może być osiągnięta przez zastąpienie komponowanych obiektów innymi obiektami tego samego interfejsu w trakcie działania programu.\n",
    "\n",
    "Unikanie problemów dziedziczenia wielokrotnego: W językach, które nie obsługują dziedziczenia wielokrotnego, kompozycja jest kluczową techniką umożliwiającą reużywanie kodu bez konieczności korzystania z wielokrotnego dziedziczenia.\n",
    "\n",
    "Łatwość utrzymania: Modyfikacje w jednej klasie zwykle nie wpływają na klasy komponujące, co ułatwia utrzymanie i rozwijanie kodu.\n",
    "\n",
    "Silne sprzężenie: Kompozycja może doprowadzić do silnego sprzężenia między klasami, jeżeli komponowane obiekty są niewłaściwie zarządzane, ponieważ zmiany wewnętrzne komponowanego obiektu mogą wpłynąć na klasę zawierającą."
   ]
  },
  {
   "cell_type": "code",
   "execution_count": 1,
   "metadata": {},
   "outputs": [],
   "source": [
    "class Engine:\n",
    "    def start(self):\n",
    "        pass\n",
    "\n",
    "    def stop(self):\n",
    "        pass\n",
    "\n",
    "class Car:\n",
    "    def __init__(self):\n",
    "        self.engine = Engine()\n",
    "\n",
    "    def turn_on(self):\n",
    "        self.engine.start()\n",
    "\n",
    "    def turn_off(self):\n",
    "        self.engine.stop()"
   ]
  },
  {
   "cell_type": "markdown",
   "metadata": {},
   "source": [
    "W tym przykładzie, Car \"ma\" Engine. Car \"nie jest\" Engine, ale używa funkcji Engine poprzez jego kompozycję, co pozwala na łatwe zastąpienie silnika innym rodzajem silnika, jeśli zajdzie taka potrzeba, bez modyfikowania klasy Car.\n",
    "\n",
    "Has a/Contains a: Sugeruje kompozycję; na przykład, \"A car has an engine\" (Samochód ma silnik), co oznacza, że obiekt klasy Car zawiera w sobie obiekt klasy Engine.\n",
    "\n",
    "Is not: Jest używane do zaznaczenia, że klasa nie dziedziczy z innej klasy; na przykład, \"A car is not an engine\" (Samochód nie jest silnikiem), co podkreśla, że klasy Car i Engine są oddzielne i Car nie rozszerza klasy Engine, ale zamiast tego posiada Engine jako część swojej struktury."
   ]
  },
  {
   "cell_type": "code",
   "execution_count": 2,
   "metadata": {},
   "outputs": [
    {
     "name": "stdout",
     "output_type": "stream",
     "text": [
      "\"Podstawy programowania\" napisane przez Jan Kowalski.\n"
     ]
    }
   ],
   "source": [
    "class Autor:\n",
    "    def __init__(self, name):\n",
    "        self.name = name\n",
    "\n",
    "    def przedstaw_sie(self):\n",
    "        return f\"{self.name}.\"\n",
    "\n",
    "class Book:\n",
    "    def __init__(self, title, autor):\n",
    "        self.title = title\n",
    "        self.autor = autor  # Composition: book \"has\" author\n",
    "\n",
    "    def show_info(self):\n",
    "        return f'\"{self.title}\" napisane przez {self.autor.przedstaw_sie()}'\n",
    "\n",
    "# Create objects\n",
    "autor = Autor(\"Jan Kowalski\")\n",
    "book = Book(\"Podstawy programowania\", autor)\n",
    "\n",
    "print(book.show_info())"
   ]
  },
  {
   "cell_type": "markdown",
   "metadata": {},
   "source": [
    "### Hermetyzacja\n",
    "\n",
    "Hermetyzacja jest procesem ukrywania szczegółów implementacyjnych i sprawiania, by pola klasy były niedostępne dla zewnętrznych klas, dostępne są tylko określone metody do operowania na tych polach. W Pythonie hermetyzację osiąga się głównie poprzez konwencję, ponieważ nie ma on tak ścisłych mechanizmów kontroli dostępu jak niektóre inne języki, takie jak Java czy C++.\n",
    "\n",
    "Python używa konwencji nazewnictwa do wskazania, że atrybut jest chroniony (tj. powinien być używany tylko wewnętrznie przez klasę lub podklasy) poprzez prefiks _ (jedna podkreślnik) lub że atrybut ma być prywatny (tj. nie powinien być dostępny poza definicją klasy) poprzez podwójne podkreślenie __ (dwa podkreślniki) przed nazwą atrybutu.\n",
    "\n",
    "Przykład hermetyzacji w Pythonie:"
   ]
  },
  {
   "cell_type": "code",
   "execution_count": 23,
   "metadata": {},
   "outputs": [
    {
     "name": "stdout",
     "output_type": "stream",
     "text": [
      "1000\n",
      "1500\n"
     ]
    }
   ],
   "source": [
    "class BankAccount:\n",
    "    def __init__(self, starting_balance):\n",
    "        self.__balance = starting_balance  # Private attribute\n",
    "\n",
    "    def deposit(self, amount):\n",
    "        if amount > 0:\n",
    "            self.__balance += amount\n",
    "            return True\n",
    "        return False\n",
    "\n",
    "    def withdraw(self, amount):\n",
    "        if 0 < amount <= self.__balance:\n",
    "            self.__balance -= amount\n",
    "            return True\n",
    "        return False\n",
    "\n",
    "    def show_balance(self):\n",
    "        return self.__balance\n",
    "\n",
    "# Użycie\n",
    "account = BankAccount(1000)\n",
    "print(account.show_balance())  # correct way to sue\n",
    "account.deposit(500)\n",
    "print(account.show_balance())\n",
    "\n",
    "# print(account.__balance)  # This will return an error, because __balance is a private attribute"
   ]
  },
  {
   "cell_type": "markdown",
   "metadata": {},
   "source": [
    "W tym przypadku, __balance jest prywatnym atrybutem klasy BankAccount, co oznacza, że dostęp do niego z zewnątrz klasy jest niedozwolony. Interakcje z saldem muszą odbywać się przez zdefiniowane metody publiczne (withdraw, deposit, show_balance)"
   ]
  },
  {
   "cell_type": "markdown",
   "metadata": {},
   "source": [
    "W Pythonie każda metoda domyślnie jest publiczna, co oznacza, że można do niej dostępować z zewnątrz klasy. Jednakże Python oferuje konwencje, które pozwalają na symulowanie zachowania metod niepublicznych (chronionych lub prywatnych) w klasie.\n",
    "\n",
    "Metody chronione (protected) są oznaczone pojedynczym podkreślnikiem _ na początku ich nazwy. Konwencja ta sugeruje innym programistom (ale nie wymusza), że metoda lub atrybut powinny być używane tylko wewnątrz klasy i jej podklas.\n",
    "\n",
    "Metody prywatne są oznaczone podwójnym podkreślnikiem __ na początku nazwy. Python stosuje tu mechanizm zwany name mangling: nazwa metody jest zmieniana w taki sposób, aby była trudniejsza do znalezienia lub przypadkowego użycia z zewnątrz klasy. To nie jest jednak pełna prywatność, jak w językach takich jak Java czy C++; w Pythonie jest to bardziej kwestia konwencji niż wymuszonego ograniczenia.\n",
    "\n",
    "Przykład metody chronionej i prywatnej:"
   ]
  },
  {
   "cell_type": "code",
   "execution_count": 24,
   "metadata": {},
   "outputs": [
    {
     "name": "stdout",
     "output_type": "stream",
     "text": [
      "This is a protected method.\n"
     ]
    }
   ],
   "source": [
    "class ExampleClass:\n",
    "    def _protected_method(self):\n",
    "        print(\"This is a protected method.\")\n",
    "\n",
    "object = ExampleClass()\n",
    "\n",
    "object._protected_method()\n"
   ]
  },
  {
   "cell_type": "code",
   "execution_count": 25,
   "metadata": {},
   "outputs": [
    {
     "name": "stdout",
     "output_type": "stream",
     "text": [
      "This is a private method.\n"
     ]
    }
   ],
   "source": [
    "class ExampleClass:\n",
    "    def __private_method(self):\n",
    "        print(\"This is a private method.\")\n",
    "\n",
    "object = ExampleClass()\n",
    "# object.__private_method()  # This would result in an error.\n",
    "object._ExampleClass__private_method()  # Correct way to access a private method.\n"
   ]
  },
  {
   "cell_type": "markdown",
   "metadata": {},
   "source": [
    "W Pythonie, klasy same w sobie nie są prywatne w sensie ścisłym, tak jak w niektórych innych językach programowania, gdzie można zadeklarować klasę jako prywatną i niedostępną poza określonym zakresem. Jednakże, podobnie jak w powyższych przykładach, można stosować konwencje, które pozwalają na ograniczenie widoczności klas na zasadzie podobnej do hermetyzacji.\n",
    "\n",
    "Można użyć podwójnego podkreślenia __ na początku nazwy klasy, co jest sugestią, że klasa ma charakter wewnętrzny lub prywatny dla modułu lub pakietu. Jest to mechanizm nie tak ścisły jak w językach statycznie typowanych, ponieważ nie blokuje on dostępu do klasy z technicznego punktu widzenia, ale jest sygnałem dla programistów, aby traktowali taką klasę jako szczegół implementacyjny, który nie jest przeznaczony do użytku zewnętrznego."
   ]
  },
  {
   "cell_type": "code",
   "execution_count": 14,
   "metadata": {},
   "outputs": [],
   "source": [
    "class _InternalClass:\n",
    "    pass\n",
    "\n",
    "class __PrivateClass:\n",
    "    pass"
   ]
  },
  {
   "cell_type": "code",
   "execution_count": 26,
   "metadata": {},
   "outputs": [
    {
     "name": "stdout",
     "output_type": "stream",
     "text": [
      "Overwriting banking.py\n"
     ]
    }
   ],
   "source": [
    "%%writefile banking.py\n",
    "# Module: banking.py\n",
    "\n",
    "\n",
    "class _BankAccount:\n",
    "    def __init__(self, initial_balance):\n",
    "        self.__balance = initial_balance  # Private attribute\n",
    "\n",
    "    def deposit(self, amount):\n",
    "        if amount > 0:\n",
    "            self.__balance += amount\n",
    "            return True\n",
    "        return False\n",
    "\n",
    "    def withdraw(self, amount):\n",
    "        if 0 < amount <= self.__balance:\n",
    "            self.__balance -= amount\n",
    "            return True\n",
    "        return False\n",
    "\n",
    "    def __display_balance(self):  # Private method\n",
    "        print(f\"Current Balance: {self.__balance}\")\n",
    "\n",
    "    def show_balance(self):\n",
    "        self.__display_balance()"
   ]
  },
  {
   "cell_type": "markdown",
   "metadata": {},
   "source": [
    "Klasa _BankAccount jest prywatną klasą wewnątrz modułu banking.py. Nie jest ona przeznaczona do bezpośredniego importowania czy używania poza tym modułem.\n",
    "\n",
    "Atrybut __balance jest prywatnym atrybutem, co oznacza, że jest on dostępny tylko wewnątrz klasy _BankAccount.\n",
    "\n",
    "Metoda __display_balance jest prywatną metodą i jest dostępna tylko wewnątrz klasy _BankAccount. Metoda publiczna show_balance może być używana do wyświetlenia stanu konta i jest to jedyny sposób dostępu do informacji o saldzie z zewnątrz klasy."
   ]
  },
  {
   "cell_type": "code",
   "execution_count": 27,
   "metadata": {},
   "outputs": [
    {
     "name": "stdout",
     "output_type": "stream",
     "text": [
      "Current Balance: 1500\n"
     ]
    }
   ],
   "source": [
    "from banking import _BankAccount\n",
    "\n",
    "account = _BankAccount(1000)  # Creating an object of the _BankAccount class\n",
    "account.deposit(500)          # Depositing money into the account\n",
    "account.show_balance()        # Displaying the account balance\n",
    "\n",
    "# account.__display_balance()  # This will result in an error, because it's a private method.\n"
   ]
  }
 ],
 "metadata": {
  "kernelspec": {
   "display_name": "Python 3",
   "language": "python",
   "name": "python3"
  },
  "language_info": {
   "codemirror_mode": {
    "name": "ipython",
    "version": 3
   },
   "file_extension": ".py",
   "mimetype": "text/x-python",
   "name": "python",
   "nbconvert_exporter": "python",
   "pygments_lexer": "ipython3",
   "version": "3.9.13"
  }
 },
 "nbformat": 4,
 "nbformat_minor": 2
}
