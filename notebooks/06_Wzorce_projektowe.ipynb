{
 "cells": [
  {
   "attachments": {},
   "cell_type": "markdown",
   "metadata": {},
   "source": [
    "## Wzorce projektowe\n",
    "\n",
    "Wzorce projektowe w Pythonie to sprawdzone rozwiązania do często występujących problemów w projektowaniu oprogramowania. Są one rodzajem szablonów, które można zastosować do rozwiązywania problemów projektowych w różnych kontekstach. W Pythonie wzorce projektowe nie są tak ściśle stosowane jak w językach takich jak Java czy C++, głównie ze względu na jego dynamiczną naturę i bogate funkcje wbudowane, które upraszczają wiele typowych wzorców.\n",
    "\n",
    "Wzorce projektowe są podzielone na trzy główne kategorie:\n",
    "\n",
    "Wzorce kreacyjne koncentrują się na mechanizmach tworzenia obiektów w sposób, który zwiększa elastyczność i ponowne wykorzystanie istniejącego kodu. Przykłady wzorców kreacyjnych w Pythonie to Singleton, Factory, Abstract Factory, Builder i Prototype.\n",
    "\n",
    "Wzorce strukturalne tłumaczą, jak zbudować obiekty i klasy w większe struktury, przy jednoczesnym zachowaniu elastyczności i efektywności. Adapter, Dekorator, Fasada, Kompozyt, Proxy, Flyweight i Bridge to popularne wzorce strukturalne.\n",
    "\n",
    "Wzorce behawioralne koncentrują się na komunikacji między obiektami, umożliwiając łatwą zmianę i rozszerzenie funkcjonalności. Do tych wzorców należą Obserwator, Mediator, Command, Iterator, Strategy, State, Visitor, Memento i Chain of Responsibility.\n",
    "\n",
    "Python, ze względu na swoje dynamiczne typowanie i funkcje językowe, często umożliwia implementację tych wzorców w bardziej zwięzły i elastyczny sposób niż języki statycznie typowane. Na przykład, dekoratory Pythona są wyrafinowanym sposobem na stosowanie wzorców takich jak Dekorator i Adapter. Funkcje pierwszoklasowe i zamknięcia pozwalają na eleganckie rozwiązania dla wzorców takich jak Command czy Strategy.\n",
    "\n",
    "Jednakże, istotne jest zrozumienie, że nie wszystkie wzorce projektowe są równie użyteczne lub konieczne w Pythonie, jak w innych językach. Część z nich może być już obsługiwana przez funkcje wbudowane w język lub jego standardowe biblioteki. Python zachęca do prostego i bezpośredniego podejścia do rozwiązywania problemów, co często oznacza, że złożone wzorce projektowe stosowane w innych językach mogą być niepotrzebne lub mogą istnieć dla nich bardziej proste alternatywy w Pythonie.\n",
    "\n",
    "### Singleton\n",
    "\n",
    "Singleton to wzorzec projektowy, który zapewnia, że klasa ma tylko jedną instancję w całym programie oraz dostarcza globalny punkt dostępu do tej instancji. Wzorzec Singleton jest często używany w sytuacjach, gdzie współdzielenie danych lub koordynacja działań między różnymi częściami programu jest potrzebna poprzez pojedynczy, łatwo dostępny obiekt.\n",
    "\n",
    "W Pythonie, Singleton można zaimplementować na kilka różnych sposobów. Jednym z prostszych jest użycie dekoratora klasy, który kontroluje tworzenie instancji.\n",
    "\n",
    "\n"
   ]
  },
  {
   "cell_type": "code",
   "execution_count": 1,
   "metadata": {},
   "outputs": [
    {
     "name": "stdout",
     "output_type": "stream",
     "text": [
      "Wartość1\n",
      "Wartość1\n"
     ]
    }
   ],
   "source": [
    "class SingletonMeta(type):\n",
    "    _instances = {}\n",
    "\n",
    "    def __call__(cls, *args, **kwargs):\n",
    "        if cls not in cls._instances:\n",
    "            cls._instances[cls] = super(SingletonMeta, cls).__call__(*args, **kwargs)\n",
    "        return cls._instances[cls]\n",
    "\n",
    "class Singleton(metaclass=SingletonMeta):\n",
    "    def __init__(self, value):\n",
    "        self.value = value\n",
    "\n",
    "    def some_business_logic(self):\n",
    "        # Operacje, które wykonuje Singleton.\n",
    "        pass\n",
    "\n",
    "# Użycie\n",
    "singleton1 = Singleton(\"Wartość1\")\n",
    "singleton2 = Singleton(\"Wartość2\")\n",
    "\n",
    "print(singleton1.value)  # Wyświetli \"Wartość1\"\n",
    "print(singleton2.value)  # Nadal wyświetli \"Wartość1\", ponieważ singleton2 to ta sama instancja co singleton1\n"
   ]
  },
  {
   "attachments": {},
   "cell_type": "markdown",
   "metadata": {},
   "source": [
    "W tym przykładzie, klasa SingletonMeta jest metaklasą, która kontroluje tworzenie instancji klasy Singleton. Gdy próbujesz stworzyć nową instancję klasy Singleton, metaklasa sprawdza, czy instancja już istnieje. Jeśli tak, zwraca istniejącą instancję; jeśli nie, tworzy nową i zapisuje ją. Dzięki temu, bez względu na to, ile razy próbujesz stworzyć obiekt klasy Singleton, zawsze otrzymasz tę samą instancję.\n",
    "\n",
    "Kluczową rolę odgrywają tutaj metody \\_\\_call\\_\\_ i atrybut _instances w klasie SingletonMeta, która jest metaklasą. Oto ich funkcje:\n",
    "\n",
    "_instances: Jest to słownik (dictionary) używany do przechowywania instancji. Każda klasa, która jest kontrolowana przez metaklasę SingletonMeta, będzie miała swoją instancję zapisaną w tym słowniku. Kluczem jest klasa (cls), a wartością jest instancja tej klasy. Ten słownik zapewnia, że każda klasa ma tylko jedną instancję.\n",
    "\n",
    "call: Metoda specjalna \\_\\_call\\_\\_ w Pythonie jest wywoływana, kiedy instancja jest \"wywoływana\" jak funkcja. W kontekście metaklasy, metoda \\_\\_call\\_\\_ jest wywoływana, gdy tworzona jest nowa instancja klasy, która używa tej metaklasy. W przypadku SingletonMeta, metoda \\_\\_call\\_\\_ jest przesłonięta, aby kontrolować tworzenie instancji. Gdy próbujesz utworzyć instancję klasy, która używa SingletonMeta jako metaklasy, \\_\\_call\\_\\_ sprawdza najpierw, czy instancja tej klasy już istnieje w \\_instances. Jeśli tak, zwraca istniejącą instancję. Jeśli nie, tworzy nową instancję, zapisuje ją w _instances i ją zwraca.\n",
    "\n",
    "Singleton jest użyteczny, ale jego stosowanie może być kontrowersyjne, ponieważ wprowadza globalny stan w aplikacji, co może utrudniać testowanie i utrzymanie kodu. Należy więc używać tego wzorca ostrożnie."
   ]
  },
  {
   "attachments": {},
   "cell_type": "markdown",
   "metadata": {},
   "source": [
    "### Factory\n",
    "\n",
    "Wzorzec projektowy Factory, znany również jako fabryka, jest używany do tworzenia obiektów bez konieczności określania dokładnych klas obiektów, które mają być stworzone. Zamiast bezpośredniego tworzenia instancji konkretnych klas, wzorzec Factory przekazuje to zadanie do specjalnej metody \"fabrycznej\". Ten wzorzec jest szczególnie przydatny w sytuacjach, gdy system powinien być niezależny od sposobu tworzenia, kompozycji i reprezentacji swoich komponentów.\n",
    "\n",
    "Przykład\n",
    "\n",
    "Załóżmy, że mamy do czynienia z aplikacją do zarządzania pojazdami, gdzie potrzebujemy tworzyć różne typy pojazdów, takie jak samochody, ciężarówki, itp."
   ]
  },
  {
   "cell_type": "code",
   "execution_count": null,
   "metadata": {},
   "outputs": [],
   "source": [
    "# Najpierw zdefiniujemy (interfejs) dla klas pojazdów:\n",
    "class Vehicle:\n",
    "    def deliver(self):\n",
    "        pass\n",
    "\n",
    "# Implementacja pojazdów\n",
    "class Car(Vehicle):\n",
    "    def deliver(self):\n",
    "        print(\"Delivering by driving a car.\")\n",
    "\n",
    "class Truck(Vehicle):\n",
    "    def deliver(self):\n",
    "        print(\"Delivering by driving a truck.\")\n",
    "\n",
    "# Fabryka pojazdów\n",
    "class VehicleFactory:\n",
    "    @staticmethod\n",
    "    def get_vehicle(vehicle_type):\n",
    "        if vehicle_type == \"car\":\n",
    "            return Car()\n",
    "        elif vehicle_type == \"truck\":\n",
    "            return Truck()\n",
    "        raise ValueError(\"Unknown vehicle type\")\n",
    "    \n",
    "# Tworzymy obiekty\n",
    "vehicle_type = input(\"What type of vehicle do you need? (car/truck): \")\n",
    "vehicle = VehicleFactory.get_vehicle(vehicle_type)\n",
    "vehicle.deliver()"
   ]
  },
  {
   "attachments": {},
   "cell_type": "markdown",
   "metadata": {},
   "source": [
    "W tym przykładzie, VehicleFactory jest fabryką, która tworzy różne rodzaje pojazdów w zależności od przekazanego parametru. Zamiast tworzyć instancje klas Car lub Truck bezpośrednio, kod klienta korzysta z fabryki, która zarządza tworzeniem obiektów. To oddziela logikę tworzenia obiektów od ich wykorzystania i pozwala na łatwe wprowadzanie nowych typów pojazdów bez modyfikacji istniejącego kodu klienta.\n",
    "\n",
    "Dekorator @staticmethod w Pythonie jest używany do oznaczania metody wewnątrz klasy jako metody statycznej. Metoda ta może być wywoływana bez potrzeby tworzenia instancji klasy, w której się znajduje. Nie ma też dostępu do self i, co za tym idzie, nie może modyfikować stanu instancji klasy ani odwoływać się do innych jej metod niestatycznych. Nie ma też dostępu do atrybutów klasy (chyba że jawnie przekazanych)."
   ]
  },
  {
   "cell_type": "markdown",
   "metadata": {},
   "source": [
    "### Prototype\n",
    "\n",
    "Wzorzec projektowy Prototype polega na tworzeniu nowych obiektów poprzez kopiowanie istniejących instancji. Jest to szczególnie przydatne w sytuacjach, gdy tworzenie instancji jest kosztowne lub skomplikowane. Wzorzec ten pozwala na uniknięcie powtórzenia procesu inicjalizacji obiektu, korzystając z gotowego \"prototypu\".\n",
    "\n",
    "Oto przykład użycia wzorca Prototype w Pythonie:\n",
    "\n",
    "Załóżmy, że mamy klasę Book, która jest dość kosztowna w tworzeniu, ponieważ wymaga załadowania dużych danych, konfiguracji, lub innych złożonych operacji."
   ]
  },
  {
   "cell_type": "code",
   "execution_count": 2,
   "metadata": {},
   "outputs": [
    {
     "name": "stdout",
     "output_type": "stream",
     "text": [
      "Original Title\n",
      "Cloned Title\n"
     ]
    }
   ],
   "source": [
    "import copy\n",
    "\n",
    "class Book:\n",
    "    def __init__(self, title, author, content):\n",
    "        self.title = title\n",
    "        self.author = author\n",
    "        self.content = content\n",
    "        # Let's assume that initializing this class i costly\n",
    "\n",
    "    def clone(self):\n",
    "        \"\"\"\n",
    "        Tworzy kopię tego obiektu.\n",
    "        \"\"\"\n",
    "        return copy.deepcopy(self)\n",
    "\n",
    "# Lets use Prototype design pattern\n",
    "original_book = Book(\"Original Title\", \"Author\", \"Content\")\n",
    "cloned_book = original_book.clone()\n",
    "\n",
    "cloned_book.title = \"Cloned Title\"  # Modifying the cloned object\n",
    "\n",
    "print(original_book.title)  # Shows \"Original Title\"\n",
    "print(cloned_book.title)    # Shows \"Cloned Title\"\n"
   ]
  },
  {
   "cell_type": "markdown",
   "metadata": {},
   "source": [
    "W tym przykładzie, metoda clone() w klasie Book używa funkcji deepcopy z modułu copy, aby stworzyć głęboką kopię istniejącego obiektu. Gdy potrzebujemy nowego obiektu Book, zamiast ponownie przechodzić przez kosztowny proces inicjalizacji, tworzymy jego kopię i modyfikujemy według potrzeb.\n",
    "\n",
    "Ten wzorzec jest szczególnie przydatny w przypadkach, gdy chcemy uniknąć wielokrotnego powtarzania skomplikowanego procesu tworzenia obiektu, a jednocześnie mamy pewność, że klonowany obiekt będzie miał podobny stan początkowy do oryginału.\n",
    "\n",
    "\n",
    "**deepcopy** w Pythonie to funkcja z modułu copy, która tworzy głęboką kopię obiektu. Oznacza to, że konstruuje nowy obiekt kompleksowy i rekursywnie wstawia do niego kopie obiektów znalezionych w oryginale. W przeciwieństwie do płytkiej kopii (shallow copy), która kopiuje tylko referencje do obiektów zawartych w oryginalnym obiekcie, głęboka kopia tworzy całkowicie niezależne duplikaty wszystkich zagnieżdżonych obiektów. Dzięki temu zmiany w głęboko skopiowanym obiekcie nie wpływają na oryginalny obiekt."
   ]
  },
  {
   "cell_type": "markdown",
   "metadata": {},
   "source": [
    "### Adapter\n",
    "Wzorzec projektowy Adapter pozwala na współpracę klas, które nie mogłyby współpracować ze sobą z powodu niekompatybilnych interfejsów. Działa jak most między dwoma różnymi interfejsami. W Pythonie, Adapter często realizowany jest poprzez kompozycję (włączenie klasy jako atrybutu) lub dziedziczenie.\n",
    "\n",
    "Przykład:\n",
    "Załóżmy, że mamy stary system, który używa obiektów typu OldPrinter, które mają metodę print_data(), i nowy system, który używa nowszej wersji drukarek z metodą new_print_data()."
   ]
  },
  {
   "cell_type": "code",
   "execution_count": 3,
   "metadata": {},
   "outputs": [
    {
     "name": "stdout",
     "output_type": "stream",
     "text": [
      "Printing data: Old Data\n",
      "New printing data: New Data\n"
     ]
    }
   ],
   "source": [
    "# Stary system\n",
    "class OldPrinter:\n",
    "    def print_data(self, data):\n",
    "        print(f\"Printing data: {data}\")\n",
    "\n",
    "# Nowy system\n",
    "class NewPrinter:\n",
    "    def new_print_data(self, data):\n",
    "        print(f\"New printing data: {data}\")\n",
    "\n",
    "# Adapter\n",
    "class PrinterAdapter:\n",
    "    def __init__(self, new_printer):\n",
    "        self.new_printer = new_printer\n",
    "\n",
    "    def print_data(self, data):\n",
    "        self.new_printer.new_print_data(data)\n",
    "\n",
    "# Użycie Adaptera\n",
    "old_printer = OldPrinter()\n",
    "old_printer.print_data(\"Old Data\")\n",
    "\n",
    "new_printer = NewPrinter()\n",
    "adapter = PrinterAdapter(new_printer)\n",
    "adapter.print_data(\"New Data\")\n"
   ]
  },
  {
   "cell_type": "markdown",
   "metadata": {},
   "source": [
    "W tym przykładzie, PrinterAdapter pozwala systemowi używać NewPrinter w taki sam sposób, jak używany był OldPrinter."
   ]
  },
  {
   "cell_type": "markdown",
   "metadata": {},
   "source": [
    "### Kompozyt\n",
    "Wzorzec Kompozyt pozwala na traktowanie pojedynczych obiektów i skomplikowanych struktur obiektów (np. drzewa) w taki sam sposób. Jest on użyteczny, gdy struktury obiektów mogą być reprezentowane jako hierarchie drzewiaste.\n",
    "\n",
    "Przykład:\n",
    "Rozważmy strukturę folderów i plików. Folder może zawierać pliki oraz inne foldery."
   ]
  },
  {
   "cell_type": "code",
   "execution_count": 4,
   "metadata": {},
   "outputs": [
    {
     "name": "stdout",
     "output_type": "stream",
     "text": [
      "Folder: Folder1\n",
      "File: File1\n",
      "Folder: Folder2\n",
      "File: File2\n"
     ]
    }
   ],
   "source": [
    "class Component:\n",
    "    def show_details(self):\n",
    "        raise NotImplementedError\n",
    "\n",
    "class File(Component):\n",
    "    def __init__(self, name):\n",
    "        self.name = name\n",
    "\n",
    "    def show_details(self):\n",
    "        print(f\"File: {self.name}\")\n",
    "\n",
    "class Folder(Component):\n",
    "    def __init__(self, name):\n",
    "        self.name = name\n",
    "        self.children = []\n",
    "\n",
    "    def add(self, component):\n",
    "        self.children.append(component)\n",
    "\n",
    "    def show_details(self):\n",
    "        print(f\"Folder: {self.name}\")\n",
    "        for child in self.children:\n",
    "            child.show_details()\n",
    "\n",
    "# Lets see it works\n",
    "folder1 = Folder(\"Folder1\")\n",
    "folder2 = Folder(\"Folder2\")\n",
    "file1 = File(\"File1\")\n",
    "file2 = File(\"File2\")\n",
    "\n",
    "folder1.add(file1)\n",
    "folder2.add(file2)\n",
    "folder1.add(folder2)\n",
    "\n",
    "folder1.show_details()\n"
   ]
  },
  {
   "cell_type": "markdown",
   "metadata": {},
   "source": [
    "W tym przykładzie, Folder i File są komponentami systemu. Folder może zawierać inne Foldery lub Filey, co tworzy strukturę drzewiastą. Metoda show_details rekursywnie wyświetla szczegóły dla folderów i plików.\n",
    "\n",
    "Zastosowanie raise NotImplementedError w klasie bazowej Component służy jako sposób na zdefiniowanie metody abstrakcyjnej. Oznacza to, że ta metoda powinna zostać zaimplementowana przez wszystkie klasy pochodne, ale sama w sobie nie posiada implementacji w klasie bazowej.\n",
    "\n",
    "W Pythonie, NotImplementedError jest wyjątkiem, który jest zwykle rzucany, aby wskazać, że konkretna metoda lub funkcjonalność nie została zaimplementowana. Jest to często używane w klasach abstrakcyjnych jako sposób na wymuszanie na klasach dziedziczących zaimplementowanie tej metody.\n",
    "\n",
    "W kontekście tego wzorca projektowego, metoda show_details w klasie Component jest zaprojektowana tak, aby była nadpisywana przez klasy dziedziczące (File i Folder). Jeśli klasa pochodna nie zaimplementuje tej metody, a metoda zostanie wywołana, Python rzuci wyjątek NotImplementedError, sygnalizując, że metoda wymaga implementacji w danej klasie pochodnej.\n",
    "\n",
    "To podejście jest użyteczne w programowaniu obiektowym, ponieważ zapewnia jasny kontrakt dla klas dziedziczących i pomaga uniknąć błędów wynikających z braku implementacji wymaganych metod."
   ]
  },
  {
   "cell_type": "markdown",
   "metadata": {},
   "source": [
    "\n",
    "### Mediator\n",
    "\n",
    "Wzorzec projektowy Mediator służy do zmniejszenia bezpośrednich zależności między klasami, umożliwiając im komunikację pośrednią przez obiekt mediatora. Mediator centralizuje złożoną logikę i interakcje między obiektami w jednym miejscu, co ułatwia zarządzanie zależnościami i promuje luźne sprzężenie.\n",
    "\n",
    "Przykład\n",
    "Rozważmy system, w którym mamy kilka komponentów, takich jak przycisk, checkbox i label, które muszą ze sobą komunikować. Zamiast tworzenia bezpośrednich odniesień między tymi komponentami, użyjemy Mediatora do zarządzania ich interakcjami."
   ]
  },
  {
   "cell_type": "code",
   "execution_count": 8,
   "metadata": {},
   "outputs": [
    {
     "name": "stdout",
     "output_type": "stream",
     "text": [
      "Label says: Button clicked\n",
      "Label says: Checkbox checked\n"
     ]
    }
   ],
   "source": [
    "# Defining the Components\n",
    "class Component:\n",
    "    def __init__(self, mediator):\n",
    "        self.mediator = mediator\n",
    "\n",
    "class Button(Component):\n",
    "    def click(self):\n",
    "        self.mediator.notify(self, \"click\")\n",
    "\n",
    "class Checkbox(Component):\n",
    "    def check(self):\n",
    "        self.mediator.notify(self, \"check\")\n",
    "\n",
    "class Label(Component):\n",
    "    def update(self, message):\n",
    "        print(f\"Label says: {message}\")\n",
    "\n",
    "\n",
    "# Implementing the Mediator\n",
    "class DialogMediator:\n",
    "    def __init__(self):\n",
    "        self.button = None\n",
    "        self.checkbox = None\n",
    "        self.label = None\n",
    "\n",
    "    def set_button(self, button):\n",
    "        self.button = button\n",
    "\n",
    "    def set_checkbox(self, checkbox):\n",
    "        self.checkbox = checkbox\n",
    "\n",
    "    def set_label(self, label):\n",
    "        self.label = label\n",
    "\n",
    "    def notify(self, sender, event):\n",
    "        if sender == self.button and event == \"click\":\n",
    "            self.label.update(\"Button clicked\")\n",
    "        elif sender == self.checkbox and event == \"check\":\n",
    "            self.label.update(\"Checkbox checked\")\n",
    "\n",
    "\n",
    "# Lets see how it works\n",
    "\n",
    "mediator = DialogMediator()\n",
    "\n",
    "button = Button(mediator)\n",
    "checkbox = Checkbox(mediator)\n",
    "label = Label(mediator)\n",
    "\n",
    "mediator.set_button(button)\n",
    "mediator.set_checkbox(checkbox)\n",
    "mediator.set_label(label)\n",
    "\n",
    "button.click()  # Label says: Button clicked\n",
    "checkbox.check()  # Label says: Checkbox checked\n"
   ]
  },
  {
   "cell_type": "markdown",
   "metadata": {},
   "source": [
    "## Zasady SOLID"
   ]
  },
  {
   "cell_type": "markdown",
   "metadata": {},
   "source": [
    "## Testowanie\n",
    "\n",
    "## Dokumentacja"
   ]
  }
 ],
 "metadata": {
  "kernelspec": {
   "display_name": "base",
   "language": "python",
   "name": "python3"
  },
  "language_info": {
   "codemirror_mode": {
    "name": "ipython",
    "version": 3
   },
   "file_extension": ".py",
   "mimetype": "text/x-python",
   "name": "python",
   "nbconvert_exporter": "python",
   "pygments_lexer": "ipython3",
   "version": "3.9.13"
  }
 },
 "nbformat": 4,
 "nbformat_minor": 2
}
