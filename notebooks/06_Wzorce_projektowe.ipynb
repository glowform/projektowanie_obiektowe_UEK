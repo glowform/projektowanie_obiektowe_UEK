{
 "cells": [
  {
   "attachments": {},
   "cell_type": "markdown",
   "metadata": {},
   "source": [
    "## Wzorce projektowe\n",
    "\n",
    "Wzorce projektowe w Pythonie to sprawdzone rozwiązania do często występujących problemów w projektowaniu oprogramowania. Są one rodzajem szablonów, które można zastosować do rozwiązywania problemów projektowych w różnych kontekstach. W Pythonie wzorce projektowe nie są tak ściśle stosowane jak w językach takich jak Java czy C++, głównie ze względu na jego dynamiczną naturę i bogate funkcje wbudowane, które upraszczają wiele typowych wzorców.\n",
    "\n",
    "Wzorce projektowe są podzielone na trzy główne kategorie:\n",
    "\n",
    "Wzorce kreacyjne koncentrują się na mechanizmach tworzenia obiektów w sposób, który zwiększa elastyczność i ponowne wykorzystanie istniejącego kodu. Przykłady wzorców kreacyjnych w Pythonie to Singleton, Factory, Abstract Factory, Builder i Prototype.\n",
    "\n",
    "Wzorce strukturalne tłumaczą, jak zbudować obiekty i klasy w większe struktury, przy jednoczesnym zachowaniu elastyczności i efektywności. Adapter, Dekorator, Fasada, Kompozyt, Proxy, Flyweight i Bridge to popularne wzorce strukturalne.\n",
    "\n",
    "Wzorce behawioralne koncentrują się na komunikacji między obiektami, umożliwiając łatwą zmianę i rozszerzenie funkcjonalności. Do tych wzorców należą Obserwator, Mediator, Command, Iterator, Strategy, State, Visitor, Memento i Chain of Responsibility.\n",
    "\n",
    "Python, ze względu na swoje dynamiczne typowanie i funkcje językowe, często umożliwia implementację tych wzorców w bardziej zwięzły i elastyczny sposób niż języki statycznie typowane. Na przykład, dekoratory Pythona są wyrafinowanym sposobem na stosowanie wzorców takich jak Dekorator i Adapter. Funkcje pierwszoklasowe i zamknięcia pozwalają na eleganckie rozwiązania dla wzorców takich jak Command czy Strategy.\n",
    "\n",
    "Jednakże, istotne jest zrozumienie, że nie wszystkie wzorce projektowe są równie użyteczne lub konieczne w Pythonie, jak w innych językach. Część z nich może być już obsługiwana przez funkcje wbudowane w język lub jego standardowe biblioteki. Python zachęca do prostego i bezpośredniego podejścia do rozwiązywania problemów, co często oznacza, że złożone wzorce projektowe stosowane w innych językach mogą być niepotrzebne lub mogą istnieć dla nich bardziej proste alternatywy w Pythonie.\n",
    "\n",
    "### Singleton\n",
    "\n",
    "Singleton to wzorzec projektowy, który zapewnia, że klasa ma tylko jedną instancję w całym programie oraz dostarcza globalny punkt dostępu do tej instancji. Wzorzec Singleton jest często używany w sytuacjach, gdzie współdzielenie danych lub koordynacja działań między różnymi częściami programu jest potrzebna poprzez pojedynczy, łatwo dostępny obiekt.\n",
    "\n",
    "W Pythonie, Singleton można zaimplementować na kilka różnych sposobów. Jednym z prostszych jest użycie dekoratora klasy, który kontroluje tworzenie instancji.\n",
    "\n",
    "\n"
   ]
  },
  {
   "cell_type": "code",
   "execution_count": 1,
   "metadata": {},
   "outputs": [
    {
     "name": "stdout",
     "output_type": "stream",
     "text": [
      "Wartość1\n",
      "Wartość1\n"
     ]
    }
   ],
   "source": [
    "class SingletonMeta(type):\n",
    "    _instances = {}\n",
    "\n",
    "    def __call__(cls, *args, **kwargs):\n",
    "        if cls not in cls._instances:\n",
    "            cls._instances[cls] = super(SingletonMeta, cls).__call__(*args, **kwargs)\n",
    "        return cls._instances[cls]\n",
    "\n",
    "class Singleton(metaclass=SingletonMeta):\n",
    "    def __init__(self, value):\n",
    "        self.value = value\n",
    "\n",
    "    def some_business_logic(self):\n",
    "        # Operacje, które wykonuje Singleton.\n",
    "        pass\n",
    "\n",
    "# Użycie\n",
    "singleton1 = Singleton(\"Wartość1\")\n",
    "singleton2 = Singleton(\"Wartość2\")\n",
    "\n",
    "print(singleton1.value)  # Wyświetli \"Wartość1\"\n",
    "print(singleton2.value)  # Nadal wyświetli \"Wartość1\", ponieważ singleton2 to ta sama instancja co singleton1\n"
   ]
  },
  {
   "attachments": {},
   "cell_type": "markdown",
   "metadata": {},
   "source": [
    "W tym przykładzie, klasa SingletonMeta jest metaklasą, która kontroluje tworzenie instancji klasy Singleton. Gdy próbujesz stworzyć nową instancję klasy Singleton, metaklasa sprawdza, czy instancja już istnieje. Jeśli tak, zwraca istniejącą instancję; jeśli nie, tworzy nową i zapisuje ją. Dzięki temu, bez względu na to, ile razy próbujesz stworzyć obiekt klasy Singleton, zawsze otrzymasz tę samą instancję.\n",
    "\n",
    "Kluczową rolę odgrywają tutaj metody __call__ i atrybut _instances w klasie SingletonMeta, która jest metaklasą. Oto ich funkcje:\n",
    "\n",
    "_instances: Jest to słownik (dictionary) używany do przechowywania instancji. Każda klasa, która jest kontrolowana przez metaklasę SingletonMeta, będzie miała swoją instancję zapisaną w tym słowniku. Kluczem jest klasa (cls), a wartością jest instancja tej klasy. Ten słownik zapewnia, że każda klasa ma tylko jedną instancję.\n",
    "\n",
    "call: Metoda specjalna __call__ w Pythonie jest wywoływana, kiedy instancja jest \"wywoływana\" jak funkcja. W kontekście metaklasy, metoda __call__ jest wywoływana, gdy tworzona jest nowa instancja klasy, która używa tej metaklasy. W przypadku SingletonMeta, metoda __call__ jest przesłonięta, aby kontrolować tworzenie instancji. Gdy próbujesz utworzyć instancję klasy, która używa SingletonMeta jako metaklasy, __call__ sprawdza najpierw, czy instancja tej klasy już istnieje w _instances. Jeśli tak, zwraca istniejącą instancję. Jeśli nie, tworzy nową instancję, zapisuje ją w _instances i ją zwraca.\n",
    "\n",
    "Singleton jest użyteczny, ale jego stosowanie może być kontrowersyjne, ponieważ wprowadza globalny stan w aplikacji, co może utrudniać testowanie i utrzymanie kodu. Należy więc używać tego wzorca ostrożnie."
   ]
  },
  {
   "attachments": {},
   "cell_type": "markdown",
   "metadata": {},
   "source": [
    "### Factory\n",
    "\n",
    "Wzorzec projektowy Factory, znany również jako fabryka, jest używany do tworzenia obiektów bez konieczności określania dokładnych klas obiektów, które mają być stworzone. Zamiast bezpośredniego tworzenia instancji konkretnych klas, wzorzec Factory przekazuje to zadanie do specjalnej metody \"fabrycznej\". Ten wzorzec jest szczególnie przydatny w sytuacjach, gdy system powinien być niezależny od sposobu tworzenia, kompozycji i reprezentacji swoich komponentów.\n",
    "\n",
    "Przykład\n",
    "\n",
    "Załóżmy, że mamy do czynienia z aplikacją do zarządzania pojazdami, gdzie potrzebujemy tworzyć różne typy pojazdów, takie jak samochody, ciężarówki, itp."
   ]
  },
  {
   "cell_type": "code",
   "execution_count": null,
   "metadata": {},
   "outputs": [],
   "source": [
    "# Najpierw zdefiniujemy (interfejs) dla klas pojazdów:\n",
    "class Vehicle:\n",
    "    def deliver(self):\n",
    "        pass\n",
    "\n",
    "# Implementacja pojazdów\n",
    "class Car(Vehicle):\n",
    "    def deliver(self):\n",
    "        print(\"Delivering by driving a car.\")\n",
    "\n",
    "class Truck(Vehicle):\n",
    "    def deliver(self):\n",
    "        print(\"Delivering by driving a truck.\")\n",
    "\n",
    "# Fabryka pojazdów\n",
    "class VehicleFactory:\n",
    "    @staticmethod\n",
    "    def get_vehicle(vehicle_type):\n",
    "        if vehicle_type == \"car\":\n",
    "            return Car()\n",
    "        elif vehicle_type == \"truck\":\n",
    "            return Truck()\n",
    "        raise ValueError(\"Unknown vehicle type\")\n",
    "    \n",
    "# Tworzymy obiekty\n",
    "vehicle_type = input(\"What type of vehicle do you need? (car/truck): \")\n",
    "vehicle = VehicleFactory.get_vehicle(vehicle_type)\n",
    "vehicle.deliver()"
   ]
  },
  {
   "attachments": {},
   "cell_type": "markdown",
   "metadata": {},
   "source": [
    "W tym przykładzie, VehicleFactory jest fabryką, która tworzy różne rodzaje pojazdów w zależności od przekazanego parametru. Zamiast tworzyć instancje klas Car lub Truck bezpośrednio, kod klienta korzysta z fabryki, która zarządza tworzeniem obiektów. To oddziela logikę tworzenia obiektów od ich wykorzystania i pozwala na łatwe wprowadzanie nowych typów pojazdów bez modyfikacji istniejącego kodu klienta.\n",
    "\n",
    "Dekorator @staticmethod w Pythonie jest używany do oznaczania metody wewnątrz klasy jako metody statycznej. Metoda ta może być wywoływana bez potrzeby tworzenia instancji klasy, w której się znajduje. Nie ma też dostępu do self i, co za tym idzie, nie może modyfikować stanu instancji klasy ani odwoływać się do innych jej metod niestatycznych. Nie ma też dostępu do atrybutów klasy (chyba że jawnie przekazanych)."
   ]
  },
  {
   "cell_type": "markdown",
   "metadata": {},
   "source": [
    "## Zasady SOLID"
   ]
  }
 ],
 "metadata": {
  "kernelspec": {
   "display_name": "base",
   "language": "python",
   "name": "python3"
  },
  "language_info": {
   "codemirror_mode": {
    "name": "ipython",
    "version": 3
   },
   "file_extension": ".py",
   "mimetype": "text/x-python",
   "name": "python",
   "nbconvert_exporter": "python",
   "pygments_lexer": "ipython3",
   "version": "3.6.4"
  }
 },
 "nbformat": 4,
 "nbformat_minor": 2
}
