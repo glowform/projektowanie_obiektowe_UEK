{
 "cells": [
  {
   "cell_type": "markdown",
   "metadata": {},
   "source": [
    "## Moduły\n",
    "\n",
    "Moduły w Pythonie to kluczowy element, który pozwala na organizację i ponowne wykorzystanie kodu. Jest to najczęściej plik zawierający kod Pythona. Może zawierać definicje funkcji, klas i zmiennych, a także wykonywalny kod. Moduły są zapisywane w plikach z rozszerzeniem .py.\n",
    "\n",
    "### Importowanie Modułów\n",
    "* Użyj słowa kluczowego import, aby zaimportować moduł. Na przykład, import math zaimportuje moduł math.\n",
    "\n",
    "* Możesz zaimportować konkretne elementy z modułu przy użyciu from module import element. Na przykład: from math import sqrt.\n",
    "\n",
    "* Aby zaimportować moduł pod inną nazwą, użyj import module as new_name. Na przykład: import math as m.\n",
    "\n",
    "### Tworzenie Własnych Modułów\n",
    "* Każdy plik .py może być traktowany jako moduł.\n",
    "\n",
    "* Aby stworzyć własny moduł, napisz kod Pythona w pliku .py, a następnie zaimportuj go do innego pliku Pythona za pomocą instrukcji import.\n",
    "\n",
    "### Ścieżka do Modułów\n",
    "* Python szuka modułów w katalogach wymienionych w sys.path. Lista ta zawiera bieżący katalog, katalogi wymienione w zmiennej środowiskowej PYTHONPATH, a także standardowe katalogi bibliotek.\n",
    "\n",
    "* Możesz wyświetlić sys.path za pomocą import sys; print(sys.path).\n",
    "\n",
    "### Pakiety\n",
    "\n",
    "* Pakiet to sposób na strukturyzowanie przestrzeni nazw modułów poprzez wykorzystanie \"katalogów z modułami\".\n",
    "* Pakiet jest zdefiniowany przez dodanie pliku \\_\\_init\\_\\_.py do katalogu zawierającego inne moduły. Python traktuje katalogi z plikiem \\_\\_init\\_\\_.py jako pakiety.\n",
    "\n",
    "### Dobre Praktyki\n",
    "\n",
    "* Nazywaj moduły krótkimi, ale opisowymi nazwami. Unikaj znaków specjalnych i myślników (-).\n",
    "\n",
    "* Utrzymuj kod modułu uporządkowany i czytelny.\n",
    "\n",
    "* Ograniczaj ilość globalnego kodu w modułach; skoncentruj się na definicjach funkcji, klas i zmiennych.\n",
    "\n",
    "* Dokumentuj moduły: dodawaj ciągi dokumentacyjne (docstrings) i komentarze."
   ]
  },
  {
   "cell_type": "code",
   "execution_count": null,
   "metadata": {},
   "outputs": [],
   "source": [
    "# Przykładowa struktura plików\n",
    "# math_operations/\n",
    "#    __init__.py\n",
    "#    addition.py\n",
    "#    multiplication.py\n",
    "\n",
    "# addition.py\n",
    "def add(x, y):\n",
    "    return x + y\n",
    "\n",
    "# multiplication.py\n",
    "def multiply(x, y):\n",
    "    return x * y"
   ]
  },
  {
   "cell_type": "code",
   "execution_count": null,
   "metadata": {},
   "outputs": [],
   "source": [
    "from math_operations import addition, multiplication\n",
    "\n",
    "result1 = addition.add(4, 5)\n",
    "result2 = multiplication.multiply(6, 7)\n",
    "\n",
    "print(\"Dodawanie:\", result1)\n",
    "print(\"Mnożenie:\", result2)"
   ]
  },
  {
   "cell_type": "markdown",
   "metadata": {},
   "source": [
    "W tym przykładzie, math_operations jest pakietem, który zawiera dwa moduły: addition i multiplication. Każdy moduł oferuje funkcje do wykonywania określonych operacji matematycznych. Importując te moduły w innym skrypcie, możesz skorzystać z funkcji add i multiply."
   ]
  },
  {
   "cell_type": "markdown",
   "metadata": {},
   "source": [
    "## Docstring\n",
    "\n",
    "Docstringi w Pythonie to oficjalny sposób dokumentowania modułów, funkcji, klas i metod. Są to wielolinijkowe komentarze umieszczane bezpośrednio po definicji elementu, którego dotyczą, i są otoczone potrójnymi cudzysłowami. Docstringi są umieszczane bezpośrednio pod definicją funkcji, metody, klasy lub modułu. \n",
    "\n",
    "Dostęp do docstringa dowolnego obiektu można uzyskać za pomocą atrybutu \\_\\_doc\\_\\_. Na przykład: print(funkcja.\\_\\_doc\\_\\_).\n",
    "\n",
    "Istnieją różne style dokumentacji, takie jak Google Style, NumPy/SciPy Style czy reST (reStructuredText). Wybór stylu zależy od preferencji i konwencji w projekcie. Docstringi mogą być wykorzystywane przez narzędzia takie jak Sphinx do automatycznego generowania dokumentacji.\n",
    "\n",
    "Jest to standardowa i zalecana metoda dokumentowania kodu w Pythonie. Dobrze napisane docstringi zwiększają czytelność i ułatwiają utrzymanie kodu.\n",
    "\n",
    "Wskazówki:\n",
    "\n",
    "* Krótkie opisy powinny znajdować się w jednej linii.\n",
    "* Długie opisy powinny mieć krótkie streszczenie w pierwszej linii, po którym następuje bardziej szczegółowy opis.\n",
    "* Opisywać należy parametry, typy, wyjątki i wartości zwracane."
   ]
  },
  {
   "cell_type": "code",
   "execution_count": 3,
   "metadata": {},
   "outputs": [],
   "source": [
    "class Book:\n",
    "    \"\"\"\n",
    "    A class representing a book.\n",
    "\n",
    "    Attributes:\n",
    "        title (str): The title of the book.\n",
    "        author (str): The author of the book.\n",
    "        pages (int): The number of pages in the book.\n",
    "    \"\"\"\n",
    "\n",
    "    def __init__(self, title, author, pages):\n",
    "        \"\"\"\n",
    "        The constructor for the Book class.\n",
    "\n",
    "        Parameters:\n",
    "            title (str): The title of the book.\n",
    "            author (str): The author of the book.\n",
    "            pages (int): The number of pages in the book.\n",
    "        \"\"\"\n",
    "        self.title = title\n",
    "        self.author = author\n",
    "        self.pages = pages\n",
    "\n",
    "    def get_info(self):\n",
    "        \"\"\"\n",
    "        Retrieve information about the book.\n",
    "\n",
    "        Returns:\n",
    "            str: A human-readable string representing the book.\n",
    "        \"\"\"\n",
    "        return f\"{self.title} by {self.author}, {self.pages} pages\""
   ]
  },
  {
   "cell_type": "code",
   "execution_count": 5,
   "metadata": {},
   "outputs": [
    {
     "name": "stdout",
     "output_type": "stream",
     "text": [
      "\n",
      "    A class representing a book.\n",
      "\n",
      "    Attributes:\n",
      "        title (str): The title of the book.\n",
      "        author (str): The author of the book.\n",
      "        pages (int): The number of pages in the book.\n",
      "    \n"
     ]
    }
   ],
   "source": [
    "print(Book.__doc__)"
   ]
  },
  {
   "cell_type": "code",
   "execution_count": 6,
   "metadata": {},
   "outputs": [
    {
     "name": "stdout",
     "output_type": "stream",
     "text": [
      "Help on class Book in module __main__:\n",
      "\n",
      "class Book(builtins.object)\n",
      " |  Book(title, author, pages)\n",
      " |  \n",
      " |  A class representing a book.\n",
      " |  \n",
      " |  Attributes:\n",
      " |      title (str): The title of the book.\n",
      " |      author (str): The author of the book.\n",
      " |      pages (int): The number of pages in the book.\n",
      " |  \n",
      " |  Methods defined here:\n",
      " |  \n",
      " |  __init__(self, title, author, pages)\n",
      " |      The constructor for the Book class.\n",
      " |      \n",
      " |      Parameters:\n",
      " |          title (str): The title of the book.\n",
      " |          author (str): The author of the book.\n",
      " |          pages (int): The number of pages in the book.\n",
      " |  \n",
      " |  get_info(self)\n",
      " |      Retrieve information about the book.\n",
      " |      \n",
      " |      Returns:\n",
      " |          str: A human-readable string representing the book.\n",
      " |  \n",
      " |  ----------------------------------------------------------------------\n",
      " |  Data descriptors defined here:\n",
      " |  \n",
      " |  __dict__\n",
      " |      dictionary for instance variables (if defined)\n",
      " |  \n",
      " |  __weakref__\n",
      " |      list of weak references to the object (if defined)\n",
      "\n"
     ]
    }
   ],
   "source": [
    "help(Book)"
   ]
  }
 ],
 "metadata": {
  "kernelspec": {
   "display_name": "Python 3",
   "language": "python",
   "name": "python3"
  },
  "language_info": {
   "codemirror_mode": {
    "name": "ipython",
    "version": 3
   },
   "file_extension": ".py",
   "mimetype": "text/x-python",
   "name": "python",
   "nbconvert_exporter": "python",
   "pygments_lexer": "ipython3",
   "version": "3.9.13"
  }
 },
 "nbformat": 4,
 "nbformat_minor": 2
}
