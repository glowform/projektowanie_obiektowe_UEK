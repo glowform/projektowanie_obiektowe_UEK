{
 "cells": [
  {
   "cell_type": "markdown",
   "metadata": {},
   "source": [
    "## Zadanie\n",
    "\n",
    "### Stworzenie Pakietu do Zarządzania Biblioteką\n",
    "\n",
    "Zaprojektuj i zaimplementuj pakiet library_management, który pomoże w zarządzaniu prostą biblioteką. Pakiet powinien zawierać moduły do obsługi książek, wypożyczeń oraz użytkowników.\n",
    "\n",
    "##### Struktura Pakietu:\n",
    "\n",
    "Pakiet library_management powinien zawierać następujące moduły:\n",
    "\n",
    "* book.py: Moduł do zarządzania książkami.\n",
    "* loan.py: Moduł do zarządzania wypożyczeniami.\n",
    "* user.py: Moduł do zarządzania użytkownikami biblioteki.\n",
    "\n",
    "Wymagania dla Modułów:\n",
    "\n",
    "**book.py:**\n",
    "\n",
    "Klasa Book powinna zawierać atrybuty takie jak title (tytuł), author (autor) i isbn (numer ISBN).\n",
    "Dodaj metody do wyświetlania informacji o książce.\n",
    "\n",
    "**loan.py:**\n",
    "\n",
    "Klasa Loan powinna reprezentować wypożyczenie książki. Powinna zawierać atrybuty dla użytkownika, książki i daty wypożyczenia.\n",
    "\n",
    "Dodaj metody do zarządzania statusem wypożyczenia.\n",
    "\n",
    "**user.py:**\n",
    "\n",
    "Klasa User powinna zawierać informacje o użytkownikach biblioteki, takie jak imię, nazwisko i identyfikator użytkownika.\n",
    "\n",
    "Dodaj metody do zarządzania informacjami o użytkowniku.\n",
    "\n",
    "Dodatkowe Wyzwania:\n",
    "Stwórz dodatkowy moduł report.py w pakiecie, który umożliwi generowanie raportów, np. lista wszystkich książek, lista wypożyczonych książek itp.\n",
    "\n",
    "Zaimplementuj prosty interfejs użytkownika (UI) wykorzystując funkcje input oraz print, który pozwoli na interakcję z systemem bibliotecznym używając funkcji z pakietu.\n",
    "\n",
    "##### Dokumentacja:\n",
    "\n",
    "Wykorzystaj ciągi dokumentacyjne (docstring), a także komentarze, do opisu klas i metod.\n",
    "\n",
    "##### Kaggle\n",
    "\n",
    "Spróbuj wgrać i uruchomić pakiet w środowisku Kaggle. Wykonaj w tym celu następujące kroki:\n",
    "\n",
    "1. Przygotuj Pakiet: Utwórz folder z plikami .py twojego pakietu, w tym \\_\\_init\\_\\_.py.\n",
    "\n",
    "2. Spakuj Folder: Spakuj cały folder do formatu ZIP.\n",
    "\n",
    "3. Prześlij na Kaggle: Prześlij archiwum ZIP na Kaggle jako zestaw danych lub bezpośrednio do swojego notatnika.\n",
    "\n",
    "4. Rozpakuj ZIP: W komórce notatnika użyj komendy, np. !unzip your_package.zip, aby rozpakować pliki.\n",
    "\n",
    "5. Importuj Pakiet: Po rozpakowaniu możesz zaimportować swój pakiet w notatniku Kaggle.\n"
   ]
  },
  {
   "cell_type": "markdown",
   "metadata": {},
   "source": []
  }
 ],
 "metadata": {
  "language_info": {
   "name": "python"
  }
 },
 "nbformat": 4,
 "nbformat_minor": 2
}
