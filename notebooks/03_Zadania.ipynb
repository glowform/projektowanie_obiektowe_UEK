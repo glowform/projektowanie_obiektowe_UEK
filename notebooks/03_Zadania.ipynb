{
 "cells": [
  {
   "attachments": {},
   "cell_type": "markdown",
   "metadata": {},
   "source": [
    "# Klasy, obiekty, dziedziczenie i polimorfizm\n",
    "\n"
   ]
  },
  {
   "attachments": {},
   "cell_type": "markdown",
   "metadata": {},
   "source": [
    "### Zadanie\n",
    "\n",
    "#### Klasa Kursu\n",
    "\n",
    "Napisz klasę Course, która będzie reprezentować kurs. Kurs powinien mieć następujące właściwości:\n",
    "\n",
    "- course_name - nazwa kursu.\n",
    "- students - lista uczestników kursu.\n",
    "- Klasa Course powinna mieć metody:\n",
    "\n",
    "- add_student(student_name) - dodaje studenta do listy uczestników kursu.\n",
    "- list_students() - zwraca listę uczestników kursu.\n",
    "\n",
    "Następnie stwórz kilka instancji klasy Course i przetestuj dodawanie i wylistowywanie uczestników w tych kursach."
   ]
  },
  {
   "cell_type": "code",
   "execution_count": null,
   "metadata": {},
   "outputs": [],
   "source": []
  },
  {
   "attachments": {},
   "cell_type": "markdown",
   "metadata": {},
   "source": [
    "### Zadanie\n",
    "\n",
    "#### Tworzenie hierarchii klas\n",
    "\n",
    "Napisz kod, który będzie zawierał hierarchię klas reprezentujących różne rodzaje zwierząt. Wykorzystaj dziedziczenie, aby stworzyć hierarchię, która zawiera wspólne cechy zwierząt oraz specyficzne cechy dla każdego rodzaju zwierząt.\n",
    "\n",
    "Rozpocznij od stworzenia klasy bazowej Animal. Klasa ta powinna mieć atrybut name (imię zwierzęcia) i metodę speak, która zwraca dźwięk wydawany przez to zwierzę.\n",
    "\n",
    "Następnie utwórz co najmniej dwie podklasy, które dziedziczą po klasie Animal. Przykładowe rodzaje zwierząt to pies, kot, ptak itp. Każda z tych klas powinna nadpisywać metodę speak, dostosowując ją do własnego rodzaju zwierzęcia.\n",
    "\n",
    "Stwórz obiekty reprezentujące różne rodzaje zwierząt i wywołaj metodę speak dla każdego z nich, aby sprawdzić, czy dziedziczenie działa poprawnie."
   ]
  },
  {
   "cell_type": "code",
   "execution_count": null,
   "metadata": {},
   "outputs": [],
   "source": []
  },
  {
   "attachments": {},
   "cell_type": "markdown",
   "metadata": {},
   "source": [
    "### Zadanie: \n",
    "\n",
    "#### Tworzenie Hierarchii Klas dla Systemu Zarządzania Uniwersytetem\n",
    "\n",
    "Stwórz hierarchię klas do zarządzania systemem uniwersyteckim. Uniwersytet składa się z różnych jednostek, takich jak wydziały, kierunki, kursy, nauczyciele i studenci. Twoim zadaniem jest zaprojektowanie hierarchii klas, która pozwoli na przechowywanie informacji o tych jednostkach i ich wzajemnych relacjach.\n",
    "\n",
    "Przykładowe klasy:\n",
    "\n",
    "Person: Klasa bazowa dla wszystkich osób w systemie (nauczyciele i studenci). Powinna zawierać podstawowe informacje, takie jak imię, nazwisko, wiek, itp.\n",
    "\n",
    "Department: Klasa bazowa dla jednostek organizacyjnych (np. wydziały). Powinna zawierać nazwę jednostki, adres i opis.\n",
    "\n",
    "Klasy pochodne:\n",
    "\n",
    "Teacher: Klasa reprezentująca nauczycieli. Powinna dziedziczyć z klasy Person i zawierać informacje specyficzne dla nauczycieli, takie jak lista prowadzonych kursów.\n",
    "Student: Klasa reprezentująca studentów. Powinna dziedziczyć z klasy Person i zawierać informacje specyficzne dla studentów, takie jak lista zapisanych kursów i średnia ocen.\n",
    "\n",
    "Inne klasy:\n",
    "\n",
    "Course: Klasa reprezentująca kursy oferowane na uczelni. Powinna zawierać informacje, takie jak nazwa kursu, nauczyciel prowadzący i lista studentów zapisanych na ten kurs.\n",
    "\n",
    "Faculty: Klasa reprezentująca wydziały na uczelni. Powinna zawierać listę kierunków oferowanych przez dany wydział.\n",
    "\n",
    "Major: Klasa reprezentująca kierunki studiów. Powinna zawierać informacje, takie jak nazwa kierunku, wydział oferujący i lista kursów wymaganych do ukończenia kierunku.\n",
    "\n",
    "Twoim zadaniem jest stworzenie hierarchii klas, które pozwolą na reprezentację tych jednostek i ich relacji w systemie uniwersyteckim. Należy wybrać odpowiednie atrybuty i metody dla każdej klasy, uwzględniając relacje między nimi, takie jak nauczyciel-kurs, student-kurs, kierunek-kurs, itp. Następnie zaimplementować te klasy i stworzyć przykładowy system uniwersytecki, w którym można tworzyć, modyfikować i wyświetlać informacje o nauczycielach, studentach, kursach, kierunkach itp."
   ]
  },
  {
   "cell_type": "code",
   "execution_count": null,
   "metadata": {},
   "outputs": [],
   "source": []
  },
  {
   "cell_type": "markdown",
   "metadata": {},
   "source": [
    "### Zadanie \n",
    "\n",
    "#### System Zarządzania Pracownikami\n",
    "\n",
    "Zadanie dotyzcy stworzenia prostego systemu do zarządzania danymi o pracownikach w organizacji. Pracownicy organizacji mogą być różnego rodzaju, np. stałymi pracownikami, kontraktorami lub menedżerami. Każdy z nich ma specyficzne informacje i zachowania. Twoje rozwiązanie powinno wykorzystywać dziedziczenie wielokrotne i dynamiczne do zarządzania różnymi typami pracowników.\n",
    "\n",
    "Przykładowe klasy:\n",
    "\n",
    "Person: Klasa bazowa reprezentująca ogólne informacje o osobach, takie jak imię, nazwisko, adres itp.\n",
    "\n",
    "Employee: Klasa bazowa reprezentująca ogólne informacje o pracownikach, dziedzicząca po klasie Person. Powinna zawierać dane takie jak numer identyfikacyjny, stanowisko i zarobki.\n",
    "\n",
    "Klasy pochodne:\n",
    "\n",
    "RegularEmployee: Klasa reprezentująca stałych pracowników. Powinna dziedziczyć z klasy Employee i zawierać dodatkowe informacje, takie jak staż pracy i rodzaj umowy (np. pełny etat).\n",
    "\n",
    "Contractor: Klasa reprezentująca pracowników na kontraktach. Powinna dziedziczyć z klasy Employee i zawierać dodatkowe informacje, takie jak data zakończenia kontraktu i stawka godzinowa.\n",
    "\n",
    "Manager: Klasa reprezentująca menedżerów. Powinna dziedziczyć z klasy RegularEmployee i zawierać informacje o zarządzanych zespołach.\n",
    "\n",
    "Funkcje:\n",
    "\n",
    "Stwórz funkcje do wyświetlania informacji o pracownikach.\n",
    "\n",
    "Dodatkowe: Stwórz funkcje do dodawania, edycji i usuwania pracowników w systemie.\n",
    "\n",
    "Twoim celem jest stworzenie hierarchii klas, która pozwoli na efektywne zarządzanie różnymi rodzajami pracowników w organizacji. Należy wybrać odpowiednie atrybuty i metody dla każdej klasy, uwzględniając specyfikę każdego rodzaju pracownika. Następnie zaimplementować te klasy oraz funkcje do zarządzania pracownikami. Jeśli to konieczne, skorzystaj z dziedziczenia wielokrotnego (np. klasa Manager dziedziczy z RegularEmployee), jak i dziedziczenia dynamicznego (np. dodawanie nowych rodzajów pracowników w trakcie działania programu)."
   ]
  },
  {
   "cell_type": "code",
   "execution_count": null,
   "metadata": {},
   "outputs": [],
   "source": []
  },
  {
   "attachments": {},
   "cell_type": "markdown",
   "metadata": {},
   "source": [
    "### Zadanie \n",
    "\n",
    "#### System Rezerwacji Biletów\n",
    "\n",
    "Zadanie dotyczy stworzenia systemu rezerwacji biletów na różne rodzaje wydarzeń, takie jak filmy, koncerty i teatry. Każdy rodzaj wydarzenia ma swoje własne zasady rezerwacji biletów. System powinien wykorzystywać polimorfizm do obsługi różnych rodzajów wydarzeń.\n",
    "\n",
    "Klasy bazowe:\n",
    "\n",
    "Event: Klasa bazowa reprezentująca ogólne informacje o wydarzeniach, takie jak nazwa, data i cena biletu.\n",
    "Klasy pochodne:\n",
    "\n",
    "Movie: Klasa reprezentująca filmy. Powinna dziedziczyć z klasy Event i zawierać informacje specyficzne dla filmów, takie jak gatunek filmu i czas trwania.\n",
    "Concert: Klasa reprezentująca koncerty. Powinna dziedziczyć z klasy Event i zawierać informacje specyficzne dla koncertów, takie jak lista wykonawców i miejsce koncertu.\n",
    "TheatrePlay: Klasa reprezentująca spektakle teatralne. Powinna dziedziczyć z klasy Event i zawierać informacje specyficzne dla teatru, takie jak obsada aktorów i czas trwania spektaklu.\n",
    "Polimorfizm:\n",
    "\n",
    "Stwórz funkcję reserve_ticket(event), która przyjmuje obiekt reprezentujący wydarzenie (np. Movie, Concert lub TheatrePlay) i umożliwia dokonanie rezerwacji biletu.\n",
    "Każda klasa pochodna (film, koncert, teatr) powinna zawierać swoją własną implementację metody reserve_ticket. Na przykład, rezerwacja biletu na film może być inna niż rezerwacja biletu na koncert.\n",
    "Interakcja:\n",
    "\n",
    "Utwórz przykładowe obiekty reprezentujące różne rodzaje wydarzeń (np. film, koncert i spektakl).\n",
    "Użyj funkcji reserve_ticket do dokonania rezerwacji na różne wydarzenia.\n",
    "Twoim celem jest stworzenie hierarchii klas, która pozwoli na zarządzanie rezerwacjami biletów na różne rodzaje wydarzeń. Zadanie ma na celu pomóc zrozumieć, że polimorfizm pozwala na jednolite korzystanie z funkcji reserve_ticket, niezależnie od rodzaju wydarzenia. Każda klasa pochodna (np. Movie, Concert) może dostosować zachowanie tej funkcji w zależności od swoich potrzeb. To ma pomóc zrozumieć, jak polimorfizm wprowadza elastyczność w programowaniu obiektowym."
   ]
  },
  {
   "cell_type": "code",
   "execution_count": null,
   "metadata": {},
   "outputs": [],
   "source": []
  }
 ],
 "metadata": {
  "kernelspec": {
   "display_name": "Python 3",
   "language": "python",
   "name": "python3"
  },
  "language_info": {
   "codemirror_mode": {
    "name": "ipython",
    "version": 3
   },
   "file_extension": ".py",
   "mimetype": "text/x-python",
   "name": "python",
   "nbconvert_exporter": "python",
   "pygments_lexer": "ipython3",
   "version": "3.9.13"
  }
 },
 "nbformat": 4,
 "nbformat_minor": 2
}
