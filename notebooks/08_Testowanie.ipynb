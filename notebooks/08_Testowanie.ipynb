{
 "cells": [
  {
   "cell_type": "markdown",
   "metadata": {},
   "source": [
    "Testowanie oprogramowania jest jednym z kluczowych etapów w cyklu każdego projektu programistycznego. Głównym celem jest zapewnienie, że oprogramowanie działa zgodnie z oczekiwaniami i spełnia wymagania określone na etapie projektowania. Testowanie jest niezbędne do identyfikacji i naprawy błędów przed wdrożeniem oprogramowania, co pomaga w zapobieganiu potencjalnym problemom w przyszłości.\n",
    "\n",
    "### Cel Testowania\n",
    "Główne cele testowania to:\n",
    "\n",
    "**Zapewnienie jakości**: Upewnienie się, że produkt spełnia wymagane standardy jakości i jest wolny od błędów.\n",
    "\n",
    "**Zabezpieczenie przed błędami**: Wykrywanie i naprawianie błędów oraz innych problemów w oprogramowaniu.\n",
    "\n",
    "**Weryfikacja i walidacja**: Sprawdzenie, czy system spełnia wszystkie biznesowe i techniczne wymagania postawione na początku procesu.\n",
    "\n",
    "### Typy Testowania\n",
    "Istnieje wiele rodzajów testowania, w tym:\n",
    "\n",
    "**Testowanie jednostkowe**: Skupia się na indywidualnych komponentach lub \"jednostkach\" oprogramowania, testując ich działanie w izolacji.\n",
    "\n",
    "**Testowanie integracyjne**: Testuje integrację różnych modułów lub serwisów, aby upewnić się, że współpracują one prawidłowo.\n",
    "\n",
    "**Testowanie systemowe**: Obejmuje testowanie kompletnego, zintegrowanego systemu, aby ocenić jego zgodność z określonymi wymaganiami.\n",
    "\n",
    "**Testowanie akceptacyjne**: Przeprowadzane zwykle przez użytkownika końcowego, aby upewnić się, że oprogramowanie może być akceptowane do użytku.\n",
    "\n",
    "### Automatyzacja testów\n",
    "Automatyzacja testów odgrywa ważną rolę w usprawnieniu procesu testowania. Używa się narzędzi do automatycznego wykonywania testów i porównywania rzeczywistych wyników z oczekiwaniami. Automatyzacja jest szczególnie użyteczna w przypadku regresji testowej, gdzie ten sam zestaw testów musi być powtarzany wielokrotnie.\n",
    "\n",
    "### Problemy związane z testowaniem\n",
    "Testowanie oprogramowania wiąże się z różnymi wyzwaniami, takimi jak:\n",
    "\n",
    "**Projektowanie skutecznych testów**: Stworzenie testów, które efektywnie wykrywają błędy i nie pomijają istotnych przypadków użycia.\n",
    "\n",
    "**Zarządzanie złożonością**: Systemy oprogramowania mogą być złożone, co utrudnia zaplanowanie i wykonanie testów obejmujących wszystkie aspekty.\n",
    "\n",
    "**Utrzymanie testów**: Testy muszą być regularnie aktualizowane, aby odzwierciedlały zmiany w oprogramowaniu.\n",
    "\n",
    "Prodsumowując, testowanie oprogramowania jest niezbędne dla każdego (większego) projektu programistycznego, ponieważ zapewnia wysoką jakość produktu końcowego i minimalizuje ryzyko problemów po wdrożeniu. Jest to proces ciągły, który wymaga ścisłej współpracy między zespołami programistów, testerów i użytkowników."
   ]
  },
  {
   "cell_type": "markdown",
   "metadata": {},
   "source": [
    "#### Testowanie Jednostkowe (Unit Testing)\n",
    " Testowanie jednostkowe polega na testowaniu najmniejszych części kodu, zazwyczaj metod i funkcji poszczególnych klas, w izolacji od reszty systemu.\n",
    " \n",
    " Narzędzia: Języki obiektowe często mają biblioteki do testowania jednostkowego, takie jak JUnit w Javie, pytest lub unittest w Pythonie.\n",
    " \n",
    " Mockowanie: W testach jednostkowych często stosuje się techniki mockowania, aby symulować działanie zewnętrznych zależności, takich jak bazy danych czy serwisy sieciowe. Jest to technika, która polega na tworzeniu imitacji (mocków) zewnętrznych zależności lub obiektów systemu, aby izolować testowaną część oprogramowania od reszty systemu lub nieprzewidywalnych zachowań zewnętrznych komponentów. Mocki symulują działanie prawdziwych obiektów i są używane do emulowania odpowiedzi oraz do monitorowania interakcji z testowanym kodem.\n",
    "\n",
    " **Przykład**\n",
    "\n",
    " Poniżej mamy przykład testowania jednostkowego w Pythonie z użyciem biblioteki unittest oraz techniki mockowania. Załóżmy, że mamy klasę Calculator, która wykonuje proste operacje matematyczne, i chcemy przetestować jej funkcjonalność\n",
    "\n"
   ]
  },
  {
   "cell_type": "code",
   "execution_count": 2,
   "metadata": {},
   "outputs": [],
   "source": [
    "#Define Calculator class\n",
    "\n",
    "class Calculator:\n",
    "    def add(self, a, b):\n",
    "        return a + b\n",
    "\n",
    "    def subtract(self, a, b):\n",
    "        return a - b"
   ]
  },
  {
   "cell_type": "code",
   "execution_count": 5,
   "metadata": {},
   "outputs": [
    {
     "name": "stderr",
     "output_type": "stream",
     "text": [
      "..\n",
      "----------------------------------------------------------------------\n",
      "Ran 2 tests in 0.002s\n",
      "\n",
      "OK\n"
     ]
    }
   ],
   "source": [
    "#Lets write our unit test\n",
    "\n",
    "import unittest\n",
    "#from calculator import Calculator\n",
    "\n",
    "\n",
    "class TestCalculator(unittest.TestCase):\n",
    "    def setUp(self):\n",
    "        self.calc = Calculator()\n",
    "\n",
    "    def test_add(self):\n",
    "        result = self.calc.add(4, 5)\n",
    "        self.assertEqual(result, 9)\n",
    "\n",
    "    def test_subtract(self):\n",
    "        result = self.calc.subtract(10, 5)\n",
    "        self.assertEqual(result, 5)\n",
    "\n",
    "if __name__ == '__main__':\n",
    "\n",
    "    #unittest.main()\n",
    "    unittest.main(argv=['first-arg-is-ignored'], exit=False) ## if we want to run it in Jupyter Notebook\n",
    "    \n"
   ]
  },
  {
   "cell_type": "markdown",
   "metadata": {},
   "source": [
    "#### Testowanie Integracyjne (Integration Testing)\n",
    " \n",
    " Testowanie integracyjne polega na sprawdzaniu, jak różne moduły lub komponenty systemu współdziałają ze sobą.\n",
    " \n",
    " Wyzwania: W paradygmacie obiektowym, gdzie system składa się z wielu współpracujących klas, testowanie integracyjne jest kluczowe do weryfikacji, że te klasy poprawnie ze sobą interagują.\n",
    "\n",
    "**Przykład**\n",
    "\n",
    "Przykładem takiego testu w Pythonie może być integracja dwóch klas: jednej służącej do pobierania danych (np. z API) i drugiej przetwarzającej te dane. Załóżmy, że mamy klasę DataFetcher, która pobiera dane, i klasę DataProcessor, która przetwarza te dane. Poniżej mamy prosty przykład obu klas oraz test integracyjny sprawdzający, czy prawidłowo ze sobą współpracują.\n",
    "\n",
    "\n"
   ]
  },
  {
   "cell_type": "code",
   "execution_count": 6,
   "metadata": {},
   "outputs": [],
   "source": [
    "class DataFetcher:\n",
    "    def fetch_data(self):\n",
    "        # Data aquisition logic\n",
    "        return {\"data\": [1, 2, 3, 4, 5]}\n",
    "\n",
    "class DataProcessor:\n",
    "    def process_data(self, data):\n",
    "        # Do something with the data, ie sum it up\n",
    "        return sum(data[\"data\"])"
   ]
  },
  {
   "cell_type": "code",
   "execution_count": 7,
   "metadata": {},
   "outputs": [
    {
     "name": "stderr",
     "output_type": "stream",
     "text": [
      "...\n",
      "----------------------------------------------------------------------\n",
      "Ran 3 tests in 0.002s\n",
      "\n",
      "OK\n"
     ]
    }
   ],
   "source": [
    "import unittest\n",
    "\n",
    "class TestIntegration(unittest.TestCase):\n",
    "    def test_data_processing(self):\n",
    "        fetcher = DataFetcher()\n",
    "        processor = DataProcessor()\n",
    "\n",
    "        # Integration phase where we use both clasess   \n",
    "        raw_data = fetcher.fetch_data()\n",
    "        result = processor.process_data(raw_data)\n",
    "\n",
    "        # Lets check if the result was correct\n",
    "        self.assertEqual(result, 15)  # 1+2+3+4+5\n",
    "\n",
    "if __name__ == '__main__':\n",
    "    #unittest.main()\n",
    "    unittest.main(argv=['first-arg-is-ignored'], exit=False) ## if we want to run it in Jupyter Notebook"
   ]
  },
  {
   "cell_type": "markdown",
   "metadata": {},
   "source": [
    "#### Testy Akceptacyjne (Acceptance Testing)\n",
    " \n",
    "Testy akceptacyjne koncentrują się na sprawdzeniu, czy system spełnia wymagania biznesowe i czy jest gotowy do wdrożenia.\n",
    " \n",
    " Użytkownik końcowy: W kontekście projektowania obiektowego, ważne jest, aby testy akceptacyjne odzwierciedlały rzeczywiste scenariusze użycia systemu przez użytkowników końcowych.\n",
    "\n",
    "**Przykład**\n",
    "\n",
    "Przykładem testu akceptacyjnego może być test funkcjonalności logowania w aplikacji internetowej.\n",
    "\n",
    "Załóżmy, że mamy aplikację internetową z systemem logowania i chcemy przetestować, czy użytkownik może się zalogować z prawidłowymi danymi uwierzytelniającymi.\n",
    "\n",
    "Scenariusz Testu Akceptacyjnego - Test Logowania\n",
    "\n",
    "**Kryteria Akceptacji:**\n",
    "\n",
    "1. Użytkownik wchodzi na stronę logowania.\n",
    "\n",
    "2. Użytkownik wprowadza prawidłową nazwę użytkownika i hasło.\n",
    "\n",
    "3. Użytkownik klika przycisk \"Zaloguj się\".\n",
    "\n",
    "4. Użytkownik zostaje przekierowany na stronę główną po pomyślnym zalogowaniu.\n"
   ]
  },
  {
   "cell_type": "code",
   "execution_count": null,
   "metadata": {},
   "outputs": [],
   "source": [
    "# This wont work out of the box, we can try it on labs\n",
    "\n",
    "from selenium import webdriver\n",
    "\n",
    "class TestLogin(unittest.TestCase):\n",
    "    def setUp(self):\n",
    "        self.driver = webdriver.Chrome()\n",
    "        self.driver.get(\"https://example.com/login\")\n",
    "\n",
    "    def test_login_success(self):\n",
    "        username_input = self.driver.find_element_by_id(\"username\")\n",
    "        password_input = self.driver.find_element_by_id(\"password\")\n",
    "        login_button = self.driver.find_element_by_id(\"login-button\")\n",
    "\n",
    "        username_input.send_keys(\"testuser\")\n",
    "        password_input.send_keys(\"correctpassword\")\n",
    "        login_button.click()\n",
    "\n",
    "        # Sprawdzamy, czy użytkownik jest na stronie głównej\n",
    "        self.assertIn(\"Witaj, testuser\", self.driver.page_source)\n",
    "\n",
    "    def tearDown(self):\n",
    "        self.driver.close()\n",
    "\n",
    "if __name__ == \"__main__\":\n",
    "    #unittest.main()\n",
    "    unittest.main(argv=['first-arg-is-ignored'], exit=False) ## if we want to run it in Jupyter Notebook"
   ]
  },
  {
   "cell_type": "markdown",
   "metadata": {},
   "source": [
    "W tym przykładzie użyto Selenium, narzędzia do automatyzacji testów przeglądarek internetowych, aby przeprowadzić test akceptacyjny. \n",
    "\n",
    "Testy akceptacyjne mogą być również przeprowadzane manualnie, bez użycia narzędzi automatyzujących, zwłaszcza w przypadku interakcji z bardziej złożonymi lub subiektywnymi aspektami aplikacji, takimi jak UX/UI."
   ]
  },
  {
   "cell_type": "markdown",
   "metadata": {},
   "source": [
    "#### Test Driven Development (TDD)\n",
    " \n",
    " Metodologia: W TDD, testy są pisane przed implementacją funkcjonalności. TDD w projektowaniu obiektowym pomaga w definiowaniu jasnych interfejsów i zachowań klas.\n",
    " \n",
    " Cykl TDD: Cykl Red-Green-Refactor w TDD sprzyja ciągłemu ulepszaniu kodu i zapewnieniu, że nowe zmiany nie psują istniejącej funkcjonalności.\n",
    "\n",
    "Cykl składa się z trzech głównych etapów: najpierw piszemy test, który zawodzi (Red), następnie piszemy minimalną ilość kodu, aby test przeszedł (Green), a na koniec refaktoryzujemy kod (Refactor). Poniżej znajdziesz przykład TDD w Pythonie.\n",
    "\n",
    "1. Załóżmy, że chcemy napisać funkcję add, która dodaje dwie liczby. Najpierw piszemy test dla tej funkcji.\n",
    "\n"
   ]
  },
  {
   "cell_type": "code",
   "execution_count": 5,
   "metadata": {},
   "outputs": [
    {
     "name": "stderr",
     "output_type": "stream",
     "text": [
      "F\n",
      "======================================================================\n",
      "FAIL: test_add (__main__.TestAddFunction)\n",
      "----------------------------------------------------------------------\n",
      "Traceback (most recent call last):\n",
      "  File \"C:\\Users\\et\\AppData\\Local\\Temp/ipykernel_18448/1502706859.py\", line 9, in test_add\n",
      "    self.assertEqual(add(3, 4), 7)\n",
      "AssertionError: None != 7\n",
      "\n",
      "----------------------------------------------------------------------\n",
      "Ran 1 test in 0.001s\n",
      "\n",
      "FAILED (failures=1)\n"
     ]
    }
   ],
   "source": [
    "import unittest\n",
    "\n",
    "def add(x, y):\n",
    "    pass\n",
    "\n",
    "class TestAddFunction(unittest.TestCase):\n",
    "    def test_add(self):\n",
    "        self.assertEqual(add(3, 4), 7)\n",
    "\n",
    "if __name__ == \"__main__\":\n",
    "    #unittest.main()\n",
    "    unittest.main(argv=['first-arg-is-ignored'], exit=False) ## if we want to run it in Jupyter Notebook"
   ]
  },
  {
   "cell_type": "markdown",
   "metadata": {},
   "source": [
    "2. Następnie piszemy minimalną ilość kodu, aby test przeszedł."
   ]
  },
  {
   "cell_type": "code",
   "execution_count": null,
   "metadata": {},
   "outputs": [],
   "source": [
    "import unittest\n",
    "\n",
    "def add(x, y):\n",
    "    return x + y\n",
    "\n",
    "class TestAddFunction(unittest.TestCase):\n",
    "    def test_add(self):\n",
    "        self.assertEqual(add(3, 4), 7)\n",
    "\n",
    "if __name__ == \"__main__\":\n",
    "    #unittest.main()\n",
    "    unittest.main(argv=['first-arg-is-ignored'], exit=False) ## if we want to run it in Jupyter Notebook"
   ]
  },
  {
   "cell_type": "markdown",
   "metadata": {},
   "source": [
    "3. Refaktoryzacja\n",
    "Po napisaniu kodu, który sprawia, że test przechodzi, możesz refaktoryzować swój kod, upewniając się, że jest on jak najbardziej klarowny i efektywny. W tym prostym przykładzie refaktoryzacja może nie być potrzebna, ale w bardziej złożonych przypadkach może obejmować usprawnienie logiki, poprawę nazewnictwa itp.\n",
    "\n",
    "Po refaktoryzacji ponownie uruchom test, aby upewnić się, że wszystkie zmiany nadal spełniają wymagania testu.\n",
    "\n",
    "Powtarzanie Procesu\n",
    "Proces TDD to ciągłe cykle powyższych kroków. Dla każdej nowej funkcjonalności lub poprawki najpierw piszesz test, który zawodzi, następnie piszesz kod, aby test przeszedł, i w końcu refaktoryzujesz. TDD pomaga w tworzeniu dokładniejszych testów i zwiększa pewność, że twój kod działa zgodnie z oczekiwaniami."
   ]
  },
  {
   "cell_type": "markdown",
   "metadata": {},
   "source": [
    "#### Behavior Driven Development (BDD)\n",
    " \n",
    " Skupienie na zachowaniu: BDD rozszerza idee TDD, koncentrując się na języku i zachowaniach zrozumiałych dla osób niebędących programistami, co ułatwia współpracę z użytkownikami projektu.\n",
    "#### Znaczenie SOLID w Testowaniu\n",
    " \n",
    " Zasady SOLID: Zastosowanie zasad SOLID w projektowaniu obiektowym ułatwia pisanie testowalnego kodu. Na przykład, Single Responsibility Principle ułatwia pisanie testów jednostkowych, a Dependency Inversion Principle umożliwia łatwe mockowanie zależności w testach.\n",
    "#### Refaktoryzacja\n",
    " \n",
    " Ciągła poprawa: Regularna refaktoryzacja kodu w trakcie procesu testowania jest ważna dla utrzymania czystości kodu i jego skalowalności."
   ]
  }
 ],
 "metadata": {
  "kernelspec": {
   "display_name": "Python 3",
   "language": "python",
   "name": "python3"
  },
  "language_info": {
   "codemirror_mode": {
    "name": "ipython",
    "version": 3
   },
   "file_extension": ".py",
   "mimetype": "text/x-python",
   "name": "python",
   "nbconvert_exporter": "python",
   "pygments_lexer": "ipython3",
   "version": "3.9.7"
  }
 },
 "nbformat": 4,
 "nbformat_minor": 2
}
